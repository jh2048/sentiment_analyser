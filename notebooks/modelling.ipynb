{
 "cells": [
  {
   "cell_type": "code",
   "execution_count": 1,
   "metadata": {},
   "outputs": [
    {
     "name": "stderr",
     "output_type": "stream",
     "text": [
      "2022-06-22 19:39:54.850799: W tensorflow/stream_executor/platform/default/dso_loader.cc:64] Could not load dynamic library 'libcudart.so.11.0'; dlerror: libcudart.so.11.0: cannot open shared object file: No such file or directory\n",
      "2022-06-22 19:39:54.850826: I tensorflow/stream_executor/cuda/cudart_stub.cc:29] Ignore above cudart dlerror if you do not have a GPU set up on your machine.\n"
     ]
    }
   ],
   "source": [
    "import sys\n",
    "import pandas as pd\n",
    "\n",
    "sys.path.append('../')\n",
    "\n",
    "import main"
   ]
  },
  {
   "cell_type": "code",
   "execution_count": 2,
   "metadata": {},
   "outputs": [],
   "source": [
    "DATA_FILEPATH = '../data/product_sentiment.csv'"
   ]
  },
  {
   "cell_type": "markdown",
   "metadata": {},
   "source": [
    "# Binary Model"
   ]
  },
  {
   "cell_type": "code",
   "execution_count": 3,
   "metadata": {},
   "outputs": [],
   "source": [
    "model_type = 'binary'"
   ]
  },
  {
   "cell_type": "code",
   "execution_count": 4,
   "metadata": {},
   "outputs": [],
   "source": [
    "df = pd.read_csv(DATA_FILEPATH)"
   ]
  },
  {
   "cell_type": "code",
   "execution_count": 5,
   "metadata": {},
   "outputs": [],
   "source": [
    "## PREPROCESS DATA (MINOR)\n",
    "\n",
    "## Remove unknown sentiments\n",
    "df_unk_removed = df[df['is_there_an_emotion_directed_at_a_brand_or_product'] != \"I can't tell\"]\n",
    "\n",
    "## Polarity analysis?\n",
    "if model_type == 'binary':\n",
    "    df_unk_removed = df_unk_removed[df_unk_removed['is_there_an_emotion_directed_at_a_brand_or_product'] != \"No emotion toward brand or product\"]\n",
    "\n",
    "## Convert NANs to UNK\n",
    "df_unk_removed.loc[:,'emotion_in_tweet_is_directed_at'] = df_unk_removed['emotion_in_tweet_is_directed_at'].apply(lambda x: 'UNK' if x != x else x)\n",
    "\n",
    "## Drop NANs\n",
    "df_input = df_unk_removed.dropna(subset=['tweet_text', 'is_there_an_emotion_directed_at_a_brand_or_product', 'emotion_in_tweet_is_directed_at'])"
   ]
  },
  {
   "cell_type": "code",
   "execution_count": 6,
   "metadata": {},
   "outputs": [
    {
     "name": "stdout",
     "output_type": "stream",
     "text": [
      "Positive emotion    2367\n",
      "Negative emotion    2367\n",
      "Name: is_there_an_emotion_directed_at_a_brand_or_product, dtype: int64\n",
      "Epoch 1/30\n"
     ]
    },
    {
     "name": "stderr",
     "output_type": "stream",
     "text": [
      "2022-06-22 19:39:01.027180: W tensorflow/stream_executor/platform/default/dso_loader.cc:64] Could not load dynamic library 'libcuda.so.1'; dlerror: libcuda.so.1: cannot open shared object file: No such file or directory\n",
      "2022-06-22 19:39:01.027197: W tensorflow/stream_executor/cuda/cuda_driver.cc:269] failed call to cuInit: UNKNOWN ERROR (303)\n",
      "2022-06-22 19:39:01.027211: I tensorflow/stream_executor/cuda/cuda_diagnostics.cc:156] kernel driver does not appear to be running on this host (J-Proteus): /proc/driver/nvidia/version does not exist\n",
      "2022-06-22 19:39:01.027386: I tensorflow/core/platform/cpu_feature_guard.cc:193] This TensorFlow binary is optimized with oneAPI Deep Neural Network Library (oneDNN) to use the following CPU instructions in performance-critical operations:  AVX2 FMA\n",
      "To enable them in other operations, rebuild TensorFlow with the appropriate compiler flags.\n"
     ]
    },
    {
     "name": "stdout",
     "output_type": "stream",
     "text": [
      "126/134 [===========================>..] - ETA: 0s - loss: 0.6485 - categorical_accuracy: 0.6796\n",
      "Epoch 1: val_categorical_accuracy improved from -inf to 0.85232, saving model to ../prediction/models/model_binary.h5\n",
      "134/134 [==============================] - 2s 8ms/step - loss: 0.6430 - categorical_accuracy: 0.6885 - val_loss: 0.5236 - val_categorical_accuracy: 0.8523\n",
      "Epoch 2/30\n",
      "128/134 [===========================>..] - ETA: 0s - loss: 0.3444 - categorical_accuracy: 0.9329\n",
      "Epoch 2: val_categorical_accuracy improved from 0.85232 to 0.94304, saving model to ../prediction/models/model_binary.h5\n",
      "134/134 [==============================] - 1s 7ms/step - loss: 0.3402 - categorical_accuracy: 0.9336 - val_loss: 0.2530 - val_categorical_accuracy: 0.9430\n",
      "Epoch 3/30\n",
      "130/134 [============================>.] - ETA: 0s - loss: 0.1348 - categorical_accuracy: 0.9832\n",
      "Epoch 3: val_categorical_accuracy improved from 0.94304 to 0.97468, saving model to ../prediction/models/model_binary.h5\n",
      "134/134 [==============================] - 1s 7ms/step - loss: 0.1339 - categorical_accuracy: 0.9836 - val_loss: 0.1404 - val_categorical_accuracy: 0.9747\n",
      "Epoch 4/30\n",
      "130/134 [============================>.] - ETA: 0s - loss: 0.0620 - categorical_accuracy: 0.9952\n",
      "Epoch 4: val_categorical_accuracy improved from 0.97468 to 0.98523, saving model to ../prediction/models/model_binary.h5\n",
      "134/134 [==============================] - 1s 7ms/step - loss: 0.0623 - categorical_accuracy: 0.9951 - val_loss: 0.0937 - val_categorical_accuracy: 0.9852\n",
      "Epoch 5/30\n",
      "126/134 [===========================>..] - ETA: 0s - loss: 0.0343 - categorical_accuracy: 0.9985\n",
      "Epoch 5: val_categorical_accuracy did not improve from 0.98523\n",
      "134/134 [==============================] - 1s 7ms/step - loss: 0.0343 - categorical_accuracy: 0.9984 - val_loss: 0.0766 - val_categorical_accuracy: 0.9810\n",
      "Epoch 6/30\n",
      "132/134 [============================>.] - ETA: 0s - loss: 0.0214 - categorical_accuracy: 0.9993\n",
      "Epoch 6: val_categorical_accuracy did not improve from 0.98523\n",
      "134/134 [==============================] - 1s 8ms/step - loss: 0.0214 - categorical_accuracy: 0.9993 - val_loss: 0.0617 - val_categorical_accuracy: 0.9831\n",
      "Epoch 7/30\n",
      "132/134 [============================>.] - ETA: 0s - loss: 0.0147 - categorical_accuracy: 0.9993\n",
      "Epoch 7: val_categorical_accuracy did not improve from 0.98523\n",
      "134/134 [==============================] - 1s 8ms/step - loss: 0.0147 - categorical_accuracy: 0.9993 - val_loss: 0.0556 - val_categorical_accuracy: 0.9852\n",
      "Epoch 8/30\n",
      "134/134 [==============================] - ETA: 0s - loss: 0.0106 - categorical_accuracy: 0.9995\n",
      "Epoch 8: val_categorical_accuracy did not improve from 0.98523\n",
      "134/134 [==============================] - 1s 6ms/step - loss: 0.0106 - categorical_accuracy: 0.9995 - val_loss: 0.0474 - val_categorical_accuracy: 0.9852\n",
      "Epoch 9/30\n",
      "134/134 [==============================] - ETA: 0s - loss: 0.0082 - categorical_accuracy: 0.9995\n",
      "Epoch 9: val_categorical_accuracy did not improve from 0.98523\n",
      "134/134 [==============================] - 1s 7ms/step - loss: 0.0082 - categorical_accuracy: 0.9995 - val_loss: 0.0506 - val_categorical_accuracy: 0.9831\n",
      "Epoch 10/30\n",
      "128/134 [===========================>..] - ETA: 0s - loss: 0.0065 - categorical_accuracy: 0.9998\n",
      "Epoch 10: val_categorical_accuracy did not improve from 0.98523\n",
      "134/134 [==============================] - 1s 7ms/step - loss: 0.0065 - categorical_accuracy: 0.9998 - val_loss: 0.0450 - val_categorical_accuracy: 0.9852\n",
      "Epoch 11/30\n",
      "129/134 [===========================>..] - ETA: 0s - loss: 0.0055 - categorical_accuracy: 0.9998\n",
      "Epoch 11: val_categorical_accuracy did not improve from 0.98523\n",
      "134/134 [==============================] - 1s 7ms/step - loss: 0.0054 - categorical_accuracy: 0.9998 - val_loss: 0.0450 - val_categorical_accuracy: 0.9852\n",
      "Epoch 12/30\n",
      "134/134 [==============================] - ETA: 0s - loss: 0.0046 - categorical_accuracy: 0.9993\n",
      "Epoch 12: val_categorical_accuracy did not improve from 0.98523\n",
      "134/134 [==============================] - 1s 7ms/step - loss: 0.0046 - categorical_accuracy: 0.9993 - val_loss: 0.0447 - val_categorical_accuracy: 0.9852\n",
      "Epoch 13/30\n",
      "131/134 [============================>.] - ETA: 0s - loss: 0.0039 - categorical_accuracy: 0.9998\n",
      "Epoch 13: val_categorical_accuracy did not improve from 0.98523\n",
      "134/134 [==============================] - 1s 6ms/step - loss: 0.0039 - categorical_accuracy: 0.9998 - val_loss: 0.0463 - val_categorical_accuracy: 0.9852\n",
      "Epoch 14/30\n",
      "129/134 [===========================>..] - ETA: 0s - loss: 0.0033 - categorical_accuracy: 0.9995\n",
      "Epoch 14: val_categorical_accuracy did not improve from 0.98523\n",
      "134/134 [==============================] - 1s 6ms/step - loss: 0.0034 - categorical_accuracy: 0.9995 - val_loss: 0.0425 - val_categorical_accuracy: 0.9852\n",
      "Epoch 15/30\n",
      "126/134 [===========================>..] - ETA: 0s - loss: 0.0029 - categorical_accuracy: 0.9995\n",
      "Epoch 15: val_categorical_accuracy did not improve from 0.98523\n",
      "134/134 [==============================] - 1s 7ms/step - loss: 0.0029 - categorical_accuracy: 0.9995 - val_loss: 0.0396 - val_categorical_accuracy: 0.9852\n",
      "Epoch 16/30\n",
      "130/134 [============================>.] - ETA: 0s - loss: 0.0027 - categorical_accuracy: 0.9998\n",
      "Epoch 16: val_categorical_accuracy did not improve from 0.98523\n",
      "134/134 [==============================] - 1s 6ms/step - loss: 0.0027 - categorical_accuracy: 0.9998 - val_loss: 0.0391 - val_categorical_accuracy: 0.9852\n",
      "Epoch 17/30\n",
      "131/134 [============================>.] - ETA: 0s - loss: 0.0024 - categorical_accuracy: 0.9995\n",
      "Epoch 17: val_categorical_accuracy did not improve from 0.98523\n",
      "134/134 [==============================] - 1s 7ms/step - loss: 0.0024 - categorical_accuracy: 0.9995 - val_loss: 0.0410 - val_categorical_accuracy: 0.9852\n",
      "Epoch 18/30\n",
      "128/134 [===========================>..] - ETA: 0s - loss: 0.0022 - categorical_accuracy: 0.9995\n",
      "Epoch 18: val_categorical_accuracy did not improve from 0.98523\n",
      "134/134 [==============================] - 1s 6ms/step - loss: 0.0022 - categorical_accuracy: 0.9995 - val_loss: 0.0411 - val_categorical_accuracy: 0.9852\n",
      "Epoch 19/30\n",
      "129/134 [===========================>..] - ETA: 0s - loss: 0.0020 - categorical_accuracy: 0.9998\n",
      "Epoch 19: val_categorical_accuracy did not improve from 0.98523\n",
      "134/134 [==============================] - 1s 6ms/step - loss: 0.0020 - categorical_accuracy: 0.9998 - val_loss: 0.0338 - val_categorical_accuracy: 0.9852\n",
      "Epoch 20/30\n",
      "132/134 [============================>.] - ETA: 0s - loss: 0.0019 - categorical_accuracy: 0.9995\n",
      "Epoch 20: val_categorical_accuracy did not improve from 0.98523\n",
      "134/134 [==============================] - 1s 6ms/step - loss: 0.0019 - categorical_accuracy: 0.9995 - val_loss: 0.0407 - val_categorical_accuracy: 0.9852\n",
      "Epoch 21/30\n",
      "133/134 [============================>.] - ETA: 0s - loss: 0.0018 - categorical_accuracy: 0.9995\n",
      "Epoch 21: val_categorical_accuracy did not improve from 0.98523\n",
      "134/134 [==============================] - 1s 7ms/step - loss: 0.0018 - categorical_accuracy: 0.9995 - val_loss: 0.0377 - val_categorical_accuracy: 0.9852\n",
      "Epoch 22/30\n",
      "128/134 [===========================>..] - ETA: 0s - loss: 0.0018 - categorical_accuracy: 0.9995\n",
      "Epoch 22: val_categorical_accuracy did not improve from 0.98523\n",
      "134/134 [==============================] - 1s 7ms/step - loss: 0.0018 - categorical_accuracy: 0.9995 - val_loss: 0.0458 - val_categorical_accuracy: 0.9852\n",
      "Epoch 23/30\n",
      "129/134 [===========================>..] - ETA: 0s - loss: 0.0017 - categorical_accuracy: 0.9995\n",
      "Epoch 23: val_categorical_accuracy did not improve from 0.98523\n",
      "134/134 [==============================] - 1s 7ms/step - loss: 0.0017 - categorical_accuracy: 0.9995 - val_loss: 0.0400 - val_categorical_accuracy: 0.9852\n",
      "Epoch 24/30\n",
      "131/134 [============================>.] - ETA: 0s - loss: 0.0016 - categorical_accuracy: 0.9995\n",
      "Epoch 24: val_categorical_accuracy did not improve from 0.98523\n",
      "134/134 [==============================] - 1s 6ms/step - loss: 0.0016 - categorical_accuracy: 0.9995 - val_loss: 0.0419 - val_categorical_accuracy: 0.9852\n",
      "Epoch 24: early stopping\n",
      "23/23 [==============================] - 0s 810us/step\n",
      "23/23 [==============================] - 0s 945us/step - loss: 0.2892 - categorical_accuracy: 0.8887\n",
      "                  precision    recall  f1-score   support\n",
      "\n",
      "Negative emotion       0.67      0.40      0.50        99\n",
      "Positive emotion       0.91      0.97      0.94       611\n",
      "\n",
      "        accuracy                           0.89       710\n",
      "       macro avg       0.79      0.69      0.72       710\n",
      "    weighted avg       0.88      0.89      0.88       710\n",
      "\n"
     ]
    },
    {
     "data": {
      "image/png": "[encoded data removed]",
      "text/plain": [
       "<Figure size 432x288 with 1 Axes>"
      ]
     },
     "metadata": {
      "needs_background": "light"
     },
     "output_type": "display_data"
    },
    {
     "data": {
      "image/png": "[encoded data removed]",
      "text/plain": [
       "<Figure size 432x288 with 1 Axes>"
      ]
     },
     "metadata": {
      "needs_background": "light"
     },
     "output_type": "display_data"
    }
   ],
   "source": [
    "## Build, train and validate model ()\n",
    "main.train_validate_model(df_input, model_type=model_type)"
   ]
  },
  {
   "cell_type": "code",
   "execution_count": 7,
   "metadata": {},
   "outputs": [
    {
     "name": "stdout",
     "output_type": "stream",
     "text": [
      "binary\n",
      "model_binary\n",
      "1/1 [==============================] - 0s 33ms/step\n",
      "1/1 [==============================] - 0s 14ms/step\n",
      "1/1 [==============================] - 0s 12ms/step\n",
      "1/1 [==============================] - 0s 12ms/step\n",
      "1/1 [==============================] - 0s 12ms/step\n",
      "#mobilephotography #iphone Shot and edited with IPhone_ XS max 📸✨📲\n",
      "Positive emotion\n",
      "[(0.2280984, 'Negative emotion'), (0.7719016, 'Positive emotion')]\n",
      "\n",
      "Crazy how fast something can grow in 11 years! 🍎 #iphone #iOS16\n",
      "Negative emotion\n",
      "[(0.7840333, 'Negative emotion'), (0.21596676, 'Positive emotion')]\n",
      "\n",
      "Well, here is an interesting glitch. 😂 Look at my time, WiFi, battery and cellular indicators. 🤣. That ain’t right.#Apple #iPhone #iOS\n",
      "Positive emotion\n",
      "[(0.4368623, 'Negative emotion'), (0.56313765, 'Positive emotion')]\n",
      "\n",
      "Completely agree. My #iphone XR (3 years old) now takes 2 to 3 times longer to open basic apps such as the camera for no apparent reason.\n",
      "Positive emotion\n",
      "[(0.37012312, 'Negative emotion'), (0.62987685, 'Positive emotion')]\n",
      "\n",
      "This is real sh*t, it’s been 8 hrs since i got this notification.(phone is waterproof though) And I can't charge my phone. And battery is draining like fountain even though i'm not using it. Really frustated!!!\n",
      "Positive emotion\n",
      "[(0.4972686, 'Negative emotion'), (0.5027314, 'Positive emotion')]\n",
      "\n"
     ]
    }
   ],
   "source": [
    "## PREDICTION\n",
    "sentences = [\n",
    "    '#mobilephotography #iphone Shot and edited with IPhone_ XS max 📸✨📲',\n",
    "    'Crazy how fast something can grow in 11 years! 🍎 #iphone #iOS16',\n",
    "    'Well, here is an interesting glitch. 😂 Look at my time, WiFi, battery and cellular indicators. 🤣. That ain’t right.#Apple #iPhone #iOS',\n",
    "    'Completely agree. My #iphone XR (3 years old) now takes 2 to 3 times longer to open basic apps such as the camera for no apparent reason.',\n",
    "    'This is real sh*t, it’s been 8 hrs since i got this notification.(phone is waterproof though) And I can\\'t charge my phone. And battery is draining like fountain even though i\\'m not using it. Really frustated!!!' \n",
    "]\n",
    "\n",
    "results = main.predict(sentences, model_type=model_type)\n",
    "for result in results:\n",
    "    print(results[result]['sentence'])\n",
    "    print(results[result]['max_prediction'])\n",
    "    print(results[result]['result'])\n",
    "    print('')\n",
    "    "
   ]
  },
  {
   "cell_type": "markdown",
   "metadata": {},
   "source": [
    "# Multiclass Model"
   ]
  },
  {
   "cell_type": "code",
   "execution_count": 3,
   "metadata": {},
   "outputs": [],
   "source": [
    "model_type = 'multiclass'"
   ]
  },
  {
   "cell_type": "code",
   "execution_count": 4,
   "metadata": {},
   "outputs": [],
   "source": [
    "df = pd.read_csv(DATA_FILEPATH)"
   ]
  },
  {
   "cell_type": "code",
   "execution_count": 5,
   "metadata": {},
   "outputs": [
    {
     "name": "stderr",
     "output_type": "stream",
     "text": [
      "/tmp/ipykernel_63254/3306780637.py:11: SettingWithCopyWarning: \n",
      "A value is trying to be set on a copy of a slice from a DataFrame.\n",
      "Try using .loc[row_indexer,col_indexer] = value instead\n",
      "\n",
      "See the caveats in the documentation: https://pandas.pydata.org/pandas-docs/stable/user_guide/indexing.html#returning-a-view-versus-a-copy\n",
      "  df_unk_removed.loc[:,'emotion_in_tweet_is_directed_at'] = df_unk_removed['emotion_in_tweet_is_directed_at'].apply(lambda x: 'UNK' if x != x else x)\n"
     ]
    }
   ],
   "source": [
    "## PREPROCESS DATA (MINOR)\n",
    "\n",
    "## Remove unknown sentiments\n",
    "df_unk_removed = df[df['is_there_an_emotion_directed_at_a_brand_or_product'] != \"I can't tell\"]\n",
    "\n",
    "## Polarity analysis?\n",
    "if model_type == 'binary':\n",
    "    df_unk_removed = df_unk_removed[df_unk_removed['is_there_an_emotion_directed_at_a_brand_or_product'] != \"No emotion toward brand or product\"]\n",
    "\n",
    "## Convert NANs to UNK\n",
    "df_unk_removed.loc[:,'emotion_in_tweet_is_directed_at'] = df_unk_removed['emotion_in_tweet_is_directed_at'].apply(lambda x: 'UNK' if x != x else x)\n",
    "\n",
    "## Drop NANs\n",
    "df_input = df_unk_removed.dropna(subset=['tweet_text', 'is_there_an_emotion_directed_at_a_brand_or_product', 'emotion_in_tweet_is_directed_at'])"
   ]
  },
  {
   "cell_type": "code",
   "execution_count": 6,
   "metadata": {},
   "outputs": [
    {
     "name": "stdout",
     "output_type": "stream",
     "text": [
      "Positive emotion                      4295\n",
      "No emotion toward brand or product    4295\n",
      "Negative emotion                      4295\n",
      "Name: is_there_an_emotion_directed_at_a_brand_or_product, dtype: int64\n"
     ]
    },
    {
     "name": "stderr",
     "output_type": "stream",
     "text": [
      "2022-06-22 19:40:17.030678: W tensorflow/stream_executor/platform/default/dso_loader.cc:64] Could not load dynamic library 'libcuda.so.1'; dlerror: libcuda.so.1: cannot open shared object file: No such file or directory\n",
      "2022-06-22 19:40:17.030695: W tensorflow/stream_executor/cuda/cuda_driver.cc:269] failed call to cuInit: UNKNOWN ERROR (303)\n",
      "2022-06-22 19:40:17.030708: I tensorflow/stream_executor/cuda/cuda_diagnostics.cc:156] kernel driver does not appear to be running on this host (J-Proteus): /proc/driver/nvidia/version does not exist\n",
      "2022-06-22 19:40:17.030858: I tensorflow/core/platform/cpu_feature_guard.cc:193] This TensorFlow binary is optimized with oneAPI Deep Neural Network Library (oneDNN) to use the following CPU instructions in performance-critical operations:  AVX2 FMA\n",
      "To enable them in other operations, rebuild TensorFlow with the appropriate compiler flags.\n"
     ]
    },
    {
     "name": "stdout",
     "output_type": "stream",
     "text": [
      "Epoch 1/30\n",
      "363/363 [==============================] - ETA: 0s - loss: 0.8256 - categorical_accuracy: 0.6340\n",
      "Epoch 1: val_categorical_accuracy improved from -inf to 0.78588, saving model to ../prediction/models/model_multiclass.h5\n",
      "363/363 [==============================] - 3s 7ms/step - loss: 0.8256 - categorical_accuracy: 0.6340 - val_loss: 0.5287 - val_categorical_accuracy: 0.7859\n",
      "Epoch 2/30\n",
      "357/363 [============================>.] - ETA: 0s - loss: 0.3722 - categorical_accuracy: 0.8656\n",
      "Epoch 2: val_categorical_accuracy improved from 0.78588 to 0.84639, saving model to ../prediction/models/model_multiclass.h5\n",
      "363/363 [==============================] - 2s 6ms/step - loss: 0.3712 - categorical_accuracy: 0.8662 - val_loss: 0.3694 - val_categorical_accuracy: 0.8464\n",
      "Epoch 3/30\n",
      "363/363 [==============================] - ETA: 0s - loss: 0.2162 - categorical_accuracy: 0.9283\n",
      "Epoch 3: val_categorical_accuracy improved from 0.84639 to 0.84872, saving model to ../prediction/models/model_multiclass.h5\n",
      "363/363 [==============================] - 2s 6ms/step - loss: 0.2162 - categorical_accuracy: 0.9283 - val_loss: 0.3307 - val_categorical_accuracy: 0.8487\n",
      "Epoch 4/30\n",
      "361/363 [============================>.] - ETA: 0s - loss: 0.1396 - categorical_accuracy: 0.9585\n",
      "Epoch 4: val_categorical_accuracy improved from 0.84872 to 0.86268, saving model to ../prediction/models/model_multiclass.h5\n",
      "363/363 [==============================] - 2s 6ms/step - loss: 0.1394 - categorical_accuracy: 0.9587 - val_loss: 0.3179 - val_categorical_accuracy: 0.8627\n",
      "Epoch 5/30\n",
      "355/363 [============================>.] - ETA: 0s - loss: 0.0983 - categorical_accuracy: 0.9702\n",
      "Epoch 5: val_categorical_accuracy improved from 0.86268 to 0.87355, saving model to ../prediction/models/model_multiclass.h5\n",
      "363/363 [==============================] - 2s 6ms/step - loss: 0.0979 - categorical_accuracy: 0.9703 - val_loss: 0.3186 - val_categorical_accuracy: 0.8735\n",
      "Epoch 6/30\n",
      "361/363 [============================>.] - ETA: 0s - loss: 0.0755 - categorical_accuracy: 0.9771\n",
      "Epoch 6: val_categorical_accuracy did not improve from 0.87355\n",
      "363/363 [==============================] - 2s 6ms/step - loss: 0.0756 - categorical_accuracy: 0.9771 - val_loss: 0.3343 - val_categorical_accuracy: 0.8720\n",
      "Epoch 7/30\n",
      "363/363 [==============================] - ETA: 0s - loss: 0.0624 - categorical_accuracy: 0.9808\n",
      "Epoch 7: val_categorical_accuracy improved from 0.87355 to 0.87510, saving model to ../prediction/models/model_multiclass.h5\n",
      "363/363 [==============================] - 2s 6ms/step - loss: 0.0624 - categorical_accuracy: 0.9808 - val_loss: 0.3413 - val_categorical_accuracy: 0.8751\n",
      "Epoch 8/30\n",
      "359/363 [============================>.] - ETA: 0s - loss: 0.0524 - categorical_accuracy: 0.9839\n",
      "Epoch 8: val_categorical_accuracy did not improve from 0.87510\n",
      "363/363 [==============================] - 3s 7ms/step - loss: 0.0523 - categorical_accuracy: 0.9840 - val_loss: 0.3668 - val_categorical_accuracy: 0.8673\n",
      "Epoch 9/30\n",
      "359/363 [============================>.] - ETA: 0s - loss: 0.0455 - categorical_accuracy: 0.9851\n",
      "Epoch 9: val_categorical_accuracy did not improve from 0.87510\n",
      "363/363 [==============================] - 3s 7ms/step - loss: 0.0455 - categorical_accuracy: 0.9851 - val_loss: 0.3724 - val_categorical_accuracy: 0.8720\n",
      "Epoch 9: early stopping\n",
      "56/56 [==============================] - 0s 738us/step\n",
      "56/56 [==============================] - 0s 1ms/step - loss: 1.0412 - categorical_accuracy: 0.6572\n",
      "                                    precision    recall  f1-score   support\n",
      "\n",
      "                  Negative emotion       0.36      0.16      0.22       111\n",
      "No emotion toward brand or product       0.72      0.78      0.75      1093\n",
      "                  Positive emotion       0.55      0.53      0.54       584\n",
      "\n",
      "                          accuracy                           0.66      1788\n",
      "                         macro avg       0.54      0.49      0.50      1788\n",
      "                      weighted avg       0.64      0.66      0.65      1788\n",
      "\n"
     ]
    },
    {
     "data": {
      "image/png": "[encoded data removed]",
      "text/plain": [
       "<Figure size 432x288 with 1 Axes>"
      ]
     },
     "metadata": {
      "needs_background": "light"
     },
     "output_type": "display_data"
    },
    {
     "data": {
      "image/png": "[encoded data removed]",
      "text/plain": [
       "<Figure size 432x288 with 1 Axes>"
      ]
     },
     "metadata": {
      "needs_background": "light"
     },
     "output_type": "display_data"
    }
   ],
   "source": [
    "## Build, train and validate model ()\n",
    "main.train_validate_model(df_input, model_type=model_type)"
   ]
  },
  {
   "cell_type": "code",
   "execution_count": 7,
   "metadata": {},
   "outputs": [
    {
     "name": "stdout",
     "output_type": "stream",
     "text": [
      "multiclass\n",
      "model_multiclass\n",
      "1/1 [==============================] - 0s 32ms/step\n",
      "1/1 [==============================] - 0s 12ms/step\n",
      "1/1 [==============================] - 0s 12ms/step\n",
      "1/1 [==============================] - 0s 12ms/step\n",
      "1/1 [==============================] - 0s 12ms/step\n",
      "#mobilephotography #iphone Shot and edited with IPhone_ XS max 📸✨📲\n",
      "No emotion toward brand or product\n",
      "[(0.018465541, 'Negative emotion'), (0.9464278, 'No emotion toward brand or product'), (0.035106674, 'Positive emotion')]\n",
      "\n",
      "Crazy how fast something can grow in 11 years! 🍎 #iphone #iOS16\n",
      "No emotion toward brand or product\n",
      "[(0.002792615, 'Negative emotion'), (0.99559, 'No emotion toward brand or product'), (0.0016174287, 'Positive emotion')]\n",
      "\n",
      "Well, here is an interesting glitch. 😂 Look at my time, WiFi, battery and cellular indicators. 🤣. That ain’t right.#Apple #iPhone #iOS\n",
      "Negative emotion\n",
      "[(0.50136286, 'Negative emotion'), (0.1653618, 'No emotion toward brand or product'), (0.33327535, 'Positive emotion')]\n",
      "\n",
      "Completely agree. My #iphone XR (3 years old) now takes 2 to 3 times longer to open basic apps such as the camera for no apparent reason.\n",
      "No emotion toward brand or product\n",
      "[(0.0817627, 'Negative emotion'), (0.88981104, 'No emotion toward brand or product'), (0.028426308, 'Positive emotion')]\n",
      "\n",
      "This is real sh*t, it’s been 8 hrs since i got this notification.(phone is waterproof though) And I can't charge my phone. And battery is draining like fountain even though i'm not using it. Really frustated!!!\n",
      "No emotion toward brand or product\n",
      "[(0.018994603, 'Negative emotion'), (0.9748145, 'No emotion toward brand or product'), (0.0061909133, 'Positive emotion')]\n",
      "\n"
     ]
    }
   ],
   "source": [
    "## PREDICTION\n",
    "sentences = [\n",
    "    '#mobilephotography #iphone Shot and edited with IPhone_ XS max 📸✨📲',\n",
    "    'Crazy how fast something can grow in 11 years! 🍎 #iphone #iOS16',\n",
    "    'Well, here is an interesting glitch. 😂 Look at my time, WiFi, battery and cellular indicators. 🤣. That ain’t right.#Apple #iPhone #iOS',\n",
    "    'Completely agree. My #iphone XR (3 years old) now takes 2 to 3 times longer to open basic apps such as the camera for no apparent reason.',\n",
    "    'This is real sh*t, it’s been 8 hrs since i got this notification.(phone is waterproof though) And I can\\'t charge my phone. And battery is draining like fountain even though i\\'m not using it. Really frustated!!!' \n",
    "]\n",
    "\n",
    "results = main.predict(sentences, model_type=model_type)\n",
    "for result in results:\n",
    "    print(results[result]['sentence'])\n",
    "    print(results[result]['max_prediction'])\n",
    "    print(results[result]['result'])\n",
    "    print('')"
   ]
  }
 ],
 "metadata": {
  "kernelspec": {
   "display_name": "sentiment_analyser",
   "language": "python",
   "name": "sentiment_analyser"
  },
  "language_info": {
   "codemirror_mode": {
    "name": "ipython",
    "version": 3
   },
   "file_extension": ".py",
   "mimetype": "text/x-python",
   "name": "python",
   "nbconvert_exporter": "python",
   "pygments_lexer": "ipython3",
   "version": "3.9.12"
  }
 },
 "nbformat": 4,
 "nbformat_minor": 4
}
