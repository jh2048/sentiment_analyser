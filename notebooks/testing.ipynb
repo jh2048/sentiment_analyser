{
 "cells": [
  {
   "cell_type": "code",
   "execution_count": 1,
   "metadata": {},
   "outputs": [
    {
     "name": "stderr",
     "output_type": "stream",
     "text": [
      "2022-06-20 20:16:12.720349: W tensorflow/stream_executor/platform/default/dso_loader.cc:64] Could not load dynamic library 'libcudart.so.11.0'; dlerror: libcudart.so.11.0: cannot open shared object file: No such file or directory\n",
      "2022-06-20 20:16:12.720371: I tensorflow/stream_executor/cuda/cudart_stub.cc:29] Ignore above cudart dlerror if you do not have a GPU set up on your machine.\n",
      "[nltk_data] Downloading package stopwords to /home/jade/nltk_data...\n",
      "[nltk_data]   Package stopwords is already up-to-date!\n",
      "[nltk_data] Downloading package averaged_perceptron_tagger to\n",
      "[nltk_data]     /home/jade/nltk_data...\n",
      "[nltk_data]   Package averaged_perceptron_tagger is already up-to-\n",
      "[nltk_data]       date!\n",
      "[nltk_data] Downloading package wordnet to /home/jade/nltk_data...\n",
      "[nltk_data]   Package wordnet is already up-to-date!\n",
      "[nltk_data] Downloading package omw-1.4 to /home/jade/nltk_data...\n",
      "[nltk_data]   Package omw-1.4 is already up-to-date!\n"
     ]
    }
   ],
   "source": [
    "import pandas as pd\n",
    "import numpy as np\n",
    "from sklearn.metrics import classification_report, plot_confusion_matrix\n",
    "from sklearn.model_selection import train_test_split\n",
    "from sklearn.preprocessing import LabelEncoder\n",
    "from keras import models\n",
    "from keras import layers\n",
    "from keras import metrics\n",
    "from keras.models import load_model\n",
    "from keras.callbacks import ModelCheckpoint\n",
    "from keras.callbacks import EarlyStopping\n",
    "from keras.utils.np_utils import to_categorical\n",
    "from tensorflow.keras.preprocessing.text import Tokenizer\n",
    "from tensorflow.keras.preprocessing.sequence import pad_sequences\n",
    "import sys, os\n",
    "import matplotlib.pyplot as plt\n",
    "\n",
    "sys.path.append('../')\n",
    "\n",
    "\n",
    "from preprocessing import TextConversion, DimensionalityReduction"
   ]
  },
  {
   "cell_type": "code",
   "execution_count": 3,
   "metadata": {},
   "outputs": [
    {
     "data": {
      "text/html": [
       "<div>\n",
       "<style scoped>\n",
       "    .dataframe tbody tr th:only-of-type {\n",
       "        vertical-align: middle;\n",
       "    }\n",
       "\n",
       "    .dataframe tbody tr th {\n",
       "        vertical-align: top;\n",
       "    }\n",
       "\n",
       "    .dataframe thead th {\n",
       "        text-align: right;\n",
       "    }\n",
       "</style>\n",
       "<table border=\"1\" class=\"dataframe\">\n",
       "  <thead>\n",
       "    <tr style=\"text-align: right;\">\n",
       "      <th></th>\n",
       "      <th>index</th>\n",
       "      <th>tweet_text</th>\n",
       "      <th>emotion_in_tweet_is_directed_at</th>\n",
       "      <th>is_there_an_emotion_directed_at_a_brand_or_product</th>\n",
       "    </tr>\n",
       "  </thead>\n",
       "  <tbody>\n",
       "    <tr>\n",
       "      <th>0</th>\n",
       "      <td>0</td>\n",
       "      <td>.@wesley83 I have a 3G iPhone. After 3 hrs twe...</td>\n",
       "      <td>iPhone</td>\n",
       "      <td>Negative emotion</td>\n",
       "    </tr>\n",
       "    <tr>\n",
       "      <th>1</th>\n",
       "      <td>1</td>\n",
       "      <td>@jessedee Know about @fludapp ? Awesome iPad/i...</td>\n",
       "      <td>iPad or iPhone App</td>\n",
       "      <td>Positive emotion</td>\n",
       "    </tr>\n",
       "    <tr>\n",
       "      <th>2</th>\n",
       "      <td>2</td>\n",
       "      <td>@swonderlin Can not wait for #iPad 2 also. The...</td>\n",
       "      <td>iPad</td>\n",
       "      <td>Positive emotion</td>\n",
       "    </tr>\n",
       "    <tr>\n",
       "      <th>3</th>\n",
       "      <td>3</td>\n",
       "      <td>@sxsw I hope this year's festival isn't as cra...</td>\n",
       "      <td>iPad or iPhone App</td>\n",
       "      <td>Negative emotion</td>\n",
       "    </tr>\n",
       "    <tr>\n",
       "      <th>4</th>\n",
       "      <td>4</td>\n",
       "      <td>@sxtxstate great stuff on Fri #SXSW: Marissa M...</td>\n",
       "      <td>Google</td>\n",
       "      <td>Positive emotion</td>\n",
       "    </tr>\n",
       "  </tbody>\n",
       "</table>\n",
       "</div>"
      ],
      "text/plain": [
       "   index                                         tweet_text  \\\n",
       "0      0  .@wesley83 I have a 3G iPhone. After 3 hrs twe...   \n",
       "1      1  @jessedee Know about @fludapp ? Awesome iPad/i...   \n",
       "2      2  @swonderlin Can not wait for #iPad 2 also. The...   \n",
       "3      3  @sxsw I hope this year's festival isn't as cra...   \n",
       "4      4  @sxtxstate great stuff on Fri #SXSW: Marissa M...   \n",
       "\n",
       "  emotion_in_tweet_is_directed_at  \\\n",
       "0                          iPhone   \n",
       "1              iPad or iPhone App   \n",
       "2                            iPad   \n",
       "3              iPad or iPhone App   \n",
       "4                          Google   \n",
       "\n",
       "  is_there_an_emotion_directed_at_a_brand_or_product  \n",
       "0                                   Negative emotion  \n",
       "1                                   Positive emotion  \n",
       "2                                   Positive emotion  \n",
       "3                                   Negative emotion  \n",
       "4                                   Positive emotion  "
      ]
     },
     "execution_count": 3,
     "metadata": {},
     "output_type": "execute_result"
    }
   ],
   "source": [
    "df = pd.read_csv('../product_sentiment.csv')\n",
    "df.head()"
   ]
  },
  {
   "cell_type": "markdown",
   "metadata": {},
   "source": [
    "4 fields available. The main text column (tweet_text) which will be the corpus for the model and the sentiment column (is_there_an_emotion_directed_at_a_brand_or_product) which will be used as the response variable. The product column (emotion_in_tweet_is_directed_at) gives us additional data which we can use to coax more information about the tweets."
   ]
  },
  {
   "cell_type": "code",
   "execution_count": 6,
   "metadata": {},
   "outputs": [
    {
     "data": {
      "text/plain": [
       "(9093, 4)"
      ]
     },
     "execution_count": 6,
     "metadata": {},
     "output_type": "execute_result"
    }
   ],
   "source": [
    "df.shape"
   ]
  },
  {
   "cell_type": "markdown",
   "metadata": {},
   "source": [
    "We have 9093 tweets to start with."
   ]
  },
  {
   "cell_type": "code",
   "execution_count": 7,
   "metadata": {},
   "outputs": [
    {
     "data": {
      "text/plain": [
       "index                                                    0\n",
       "tweet_text                                               1\n",
       "emotion_in_tweet_is_directed_at                       5802\n",
       "is_there_an_emotion_directed_at_a_brand_or_product       0\n",
       "dtype: int64"
      ]
     },
     "execution_count": 7,
     "metadata": {},
     "output_type": "execute_result"
    }
   ],
   "source": [
    "df.isnull().sum()"
   ]
  },
  {
   "cell_type": "markdown",
   "metadata": {},
   "source": [
    "Two columns contain missing data. The products column has a majority of missing data (64%) while the tweets have only one missing value. So let's remove the row where the tweet is missing since this can't be used in this analysis anyway."
   ]
  },
  {
   "cell_type": "code",
   "execution_count": 8,
   "metadata": {},
   "outputs": [
    {
     "data": {
      "text/plain": [
       "(9092, 4)"
      ]
     },
     "execution_count": 8,
     "metadata": {},
     "output_type": "execute_result"
    }
   ],
   "source": [
    "df_missing_removed = df[~df.tweet_text.isnull()]\n",
    "df_missing_removed.shape"
   ]
  },
  {
   "cell_type": "code",
   "execution_count": 9,
   "metadata": {},
   "outputs": [
    {
     "data": {
      "text/plain": [
       "NaN                                5802\n",
       "iPad                                946\n",
       "Apple                               661\n",
       "iPad or iPhone App                  470\n",
       "Google                              430\n",
       "iPhone                              297\n",
       "Other Google product or service     293\n",
       "Android App                          81\n",
       "Android                              78\n",
       "Other Apple product or service       35\n",
       "Name: emotion_in_tweet_is_directed_at, dtype: int64"
      ]
     },
     "execution_count": 9,
     "metadata": {},
     "output_type": "execute_result"
    }
   ],
   "source": [
    "df.emotion_in_tweet_is_directed_at.value_counts(dropna=False)"
   ]
  },
  {
   "cell_type": "markdown",
   "metadata": {},
   "source": []
  },
  {
   "cell_type": "code",
   "execution_count": 11,
   "metadata": {},
   "outputs": [
    {
     "data": {
      "text/plain": [
       "<AxesSubplot:>"
      ]
     },
     "execution_count": 11,
     "metadata": {},
     "output_type": "execute_result"
    },
    {
     "data": {
      "image/png": "[encoded data removed]",
      "text/plain": [
       "<Figure size 432x288 with 1 Axes>"
      ]
     },
     "metadata": {
      "needs_background": "light"
     },
     "output_type": "display_data"
    }
   ],
   "source": [
    "df.emotion_in_tweet_is_directed_at.value_counts().plot(kind='bar')"
   ]
  },
  {
   "cell_type": "code",
   "execution_count": 12,
   "metadata": {},
   "outputs": [
    {
     "data": {
      "text/plain": [
       "<AxesSubplot:>"
      ]
     },
     "execution_count": 12,
     "metadata": {},
     "output_type": "execute_result"
    },
    {
     "data": {
      "image/png": "[encoded data removed]",
      "text/plain": [
       "<Figure size 432x288 with 1 Axes>"
      ]
     },
     "metadata": {
      "needs_background": "light"
     },
     "output_type": "display_data"
    }
   ],
   "source": [
    "df.is_there_an_emotion_directed_at_a_brand_or_product.value_counts(dropna=False).plot(kind='bar')"
   ]
  },
  {
   "cell_type": "markdown",
   "metadata": {},
   "source": [
    "There are 4 values in the sentiment column. 1 of which means inconclusive. In this instance, we will remove it since it cannot be used to validate / classify the data in line with the request. The remaining three give us a multiclass problem; positive, negative and neutral. As with many real world scenarios, we have unbalanced classes with the negative emotions being the minority, the neutral being the majority. \n",
    "\n",
    "Balance the classes or weight the metrics? \n",
    "\n",
    "There are other techniques we can use to give more context/ information to the sentiment of the text such as identifying subjectivity/ objectivity and sarcasm detection, however given the size of the dataset, there would not be much benefit from using these techniques."
   ]
  },
  {
   "cell_type": "code",
   "execution_count": 4,
   "metadata": {},
   "outputs": [
    {
     "data": {
      "text/plain": [
       "0"
      ]
     },
     "execution_count": 4,
     "metadata": {},
     "output_type": "execute_result"
    }
   ],
   "source": [
    "df.duplicated().sum()"
   ]
  },
  {
   "cell_type": "markdown",
   "metadata": {},
   "source": [
    "> Index 6 missing\n",
    "\n",
    "> Drop missing values from tweet texts since this is themain source of information we're looking for\n",
    "\n",
    "> No missing sentiments\n",
    "\n",
    "> No duplicates"
   ]
  },
  {
   "cell_type": "code",
   "execution_count": 5,
   "metadata": {},
   "outputs": [
    {
     "name": "stdout",
     "output_type": "stream",
     "text": [
      "['Attn: All  #SXSW frineds, @mention Register for #GDGTLive  and see Cobra iRadar for Android. {link}', 'Anyone at  #sxsw want to sell their old iPad?', 'Anyone at  #SXSW who bought the new iPad want to sell their older iPad to me?', 'At #sxsw.  Oooh. RT @mention Google to Launch Major New Social Network Called Circles, Possibly Today {link}', 'The best!  RT @mention Ha! First in line for #ipad2 at #sxsw &quot;pop-up&quot; Apple store was an event planner #eventprofs #pcma #engage365', 'SPIN Play - a new concept in music discovery for your iPad from @mention &amp; spin.com {link} #iTunes #sxsw @mention', '@mention  - False Alarm: Google Circles Not Coming Now\\x89ÛÒand Probably Not Ever? - {link} #Google #Circles #Social #SXSW', 'VatorNews - Google And Apple Force Print Media to Evolve? {link} #sxsw', '@mention  - Great weather to greet you for #sxsw! Still need a sweater at night..Apple putting up &quot;flash store&quot; downtown to sell iPad2', 'HootSuite - HootSuite Mobile for #SXSW ~ Updates for iPhone, BlackBerry &amp; Android: Whether you\\x89Ûªre getting friend... {link}', 'Hey #SXSW - How long do you think it takes us to make an iPhone case? answer @mention using #zazzlesxsw and we\\x89Ûªll make you one!', 'Mashable! - The iPad 2 Takes Over SXSW [VIDEO] #ipad #sxsw #gadgets {link}', 'For I-Pad ?RT @mention New #UberSocial for #iPhone now in the App Store includes UberGuide to #SXSW sponsored by ... {link}', \"#IPad2 's \\x89Û÷#SmartCover\\x89Ûª Opens to Instant Access - I should have waited to get one! - {link} #apple #SXSW\", 'Hand-Held \\x89Û÷Hobo\\x89Ûª: Drafthouse launches \\x89Û÷Hobo With a Shotgun\\x89Ûª iPhone app #SXSW {link}', 'HOORAY RT \\x89ÛÏ@mention Apple Is Opening A Pop-Up Store In Austin For #SXSW | @mention {link}', 'Orly....? \\x89ÛÏ@mention Google set to launch new social network #Circles today at #sxsw\\x89Û\\x9d', 'wooooo!!! \\x89ÛÏ@mention Apple store downtown Austin open til Midnight. #sxsw\\x89Û\\x9d']\n"
     ]
    }
   ],
   "source": [
    "print([x for x in df.tweet_text[32:50]])"
   ]
  },
  {
   "cell_type": "code",
   "execution_count": 16,
   "metadata": {},
   "outputs": [],
   "source": [
    "No emoticons in this text\n"
   ]
  },
  {
   "cell_type": "markdown",
   "metadata": {},
   "source": [
    "> Since we haven't got much data, the decision to lemmatise will leave us with a bigger pool of terms to weight on\n",
    "\n",
    "> Not all mentions removed\n",
    "\n",
    "\n"
   ]
  },
  {
   "cell_type": "code",
   "execution_count": 3,
   "metadata": {},
   "outputs": [],
   "source": [
    "dim_red = DimensionalityReduction()\n",
    "txt_con = TextConversion()"
   ]
  },
  {
   "cell_type": "code",
   "execution_count": 117,
   "metadata": {},
   "outputs": [
    {
     "data": {
      "text/plain": [
       "No emotion toward brand or product    5388\n",
       "Positive emotion                      2978\n",
       "Negative emotion                       570\n",
       "I can't tell                           156\n",
       "Name: is_there_an_emotion_directed_at_a_brand_or_product, dtype: int64"
      ]
     },
     "execution_count": 117,
     "metadata": {},
     "output_type": "execute_result"
    }
   ],
   "source": [
    "df.is_there_an_emotion_directed_at_a_brand_or_product.value_counts(dropna = False)"
   ]
  },
  {
   "cell_type": "code",
   "execution_count": 116,
   "metadata": {},
   "outputs": [
    {
     "data": {
      "text/plain": [
       "NaN                                5801\n",
       "iPad                                946\n",
       "Apple                               661\n",
       "iPad or iPhone App                  470\n",
       "Google                              430\n",
       "iPhone                              297\n",
       "Other Google product or service     293\n",
       "Android App                          81\n",
       "Android                              78\n",
       "Other Apple product or service       35\n",
       "Name: emotion_in_tweet_is_directed_at, dtype: int64"
      ]
     },
     "execution_count": 116,
     "metadata": {},
     "output_type": "execute_result"
    }
   ],
   "source": [
    "df.emotion_in_tweet_is_directed_at.value_counts(dropna=False)"
   ]
  },
  {
   "cell_type": "code",
   "execution_count": 4,
   "metadata": {},
   "outputs": [],
   "source": [
    "#DATA_FILE_PATH = '../data/crowdflower-brands-and-product-emotions/data/'\n",
    "#TOKENIZED_DATA_FILE_NAME = 'tokenized_twitter_data.csv'\n",
    "#pd.set_option('display.max_colwidth', None)\n",
    "RANDOM_STATE = 42\n",
    "MODEL_FILE_PATH = '../'\n",
    "MODEL_FILE_NAME = 'emb_model_01_best_model.h5'\n",
    "RUN_MODEL = False"
   ]
  },
  {
   "cell_type": "code",
   "execution_count": 5,
   "metadata": {},
   "outputs": [],
   "source": [
    "dim_red = DimensionalityReduction()\n",
    "txt_con = TextConversion()"
   ]
  },
  {
   "cell_type": "code",
   "execution_count": 71,
   "metadata": {},
   "outputs": [
    {
     "name": "stdout",
     "output_type": "stream",
     "text": [
      "(9093, 4) (8937, 4)\n"
     ]
    }
   ],
   "source": []
  },
  {
   "cell_type": "code",
   "execution_count": null,
   "metadata": {},
   "outputs": [],
   "source": [
    "for idx, sentence in enumerate(df_dropna.tweet_text):\n",
    "    if idx%100 == 0:\n",
    "        print(idx)\n",
    "    \n",
    "    if sentence == sentence:\n",
    "        sentence_w_emoticons = txt_con.convert_emoticons(sentence)\n",
    "        sentence_w_std_refs_rm = dim_red.remove_standardised_references(sentence_w_emoticons)\n",
    "        sentence_lwr = txt_con.convert_sentence_to_lowercase(sentence_w_std_refs_rm)\n",
    "        word_tokens = txt_con.tokenise_text(sentence_lwr)\n",
    "        work_tokens_lmtzd = txt_con.text_lemmatisation(word_tokens)\n",
    "        word_tokens_rm_punct = dim_red.remove_stopwords(work_tokens_lmtzd)\n",
    "        word_tokens_rm_sngl_use_wrds = dim_red.remove_single_use_words(word_tokens_rm_punct)\n",
    "        word_tokens_rm_punct = dim_red.remove_punctuation(word_tokens_rm_sngl_use_wrds)\n",
    "        df_dropna.loc[idx, 'tweet_text_clean'] = ' '.join(x for x in word_tokens_rm_punct)\n",
    "    else:\n",
    "        print(sentence)\n",
    "    \n",
    "df_dropna.head()"
   ]
  },
  {
   "cell_type": "code",
   "execution_count": 34,
   "metadata": {},
   "outputs": [],
   "source": [
    "import time"
   ]
  },
  {
   "cell_type": "code",
   "execution_count": 88,
   "metadata": {},
   "outputs": [
    {
     "name": "stdout",
     "output_type": "stream",
     "text": [
      "(9093, 4) (8937, 4)\n"
     ]
    },
    {
     "name": "stderr",
     "output_type": "stream",
     "text": [
      "/tmp/ipykernel_345830/1513908503.py:13: SettingWithCopyWarning: \n",
      "A value is trying to be set on a copy of a slice from a DataFrame.\n",
      "Try using .loc[row_indexer,col_indexer] = value instead\n",
      "\n",
      "See the caveats in the documentation: https://pandas.pydata.org/pandas-docs/stable/user_guide/indexing.html#returning-a-view-versus-a-copy\n",
      "  df_dropna.loc[:, 'tweet_text'] = df_dropna['tweet_text'].apply(dim_red.remove_standardised_references)\n",
      "/tmp/ipykernel_345830/1513908503.py:17: SettingWithCopyWarning: \n",
      "A value is trying to be set on a copy of a slice from a DataFrame.\n",
      "Try using .loc[row_indexer,col_indexer] = value instead\n",
      "\n",
      "See the caveats in the documentation: https://pandas.pydata.org/pandas-docs/stable/user_guide/indexing.html#returning-a-view-versus-a-copy\n",
      "  df_dropna.loc[:, 'tweet_text'] = df_dropna['tweet_text'].apply(txt_con.convert_sentence_to_lowercase)\n"
     ]
    },
    {
     "name": "stdout",
     "output_type": "stream",
     "text": [
      "Removing standard refs 0.6482663154602051\n",
      "Converting to lowercase 0.013913869857788086\n"
     ]
    },
    {
     "name": "stderr",
     "output_type": "stream",
     "text": [
      "/tmp/ipykernel_345830/1513908503.py:22: SettingWithCopyWarning: \n",
      "A value is trying to be set on a copy of a slice from a DataFrame.\n",
      "Try using .loc[row_indexer,col_indexer] = value instead\n",
      "\n",
      "See the caveats in the documentation: https://pandas.pydata.org/pandas-docs/stable/user_guide/indexing.html#returning-a-view-versus-a-copy\n",
      "  df_dropna.loc[:, 'tweet_text'] = df_dropna['tweet_text'].apply(txt_con.tokenise_text)\n"
     ]
    },
    {
     "name": "stdout",
     "output_type": "stream",
     "text": [
      "Tokenising texts 0.9190833568572998\n",
      "Text Lemmatisation 4.812535285949707\n",
      "Removing stopwords 0.03372550010681152\n",
      "Removing single use words 0.04976677894592285\n",
      "Removing punctuation 0.0719764232635498\n",
      "Joining\n"
     ]
    },
    {
     "name": "stderr",
     "output_type": "stream",
     "text": [
      "/tmp/ipykernel_345830/1513908503.py:27: SettingWithCopyWarning: \n",
      "A value is trying to be set on a copy of a slice from a DataFrame.\n",
      "Try using .loc[row_indexer,col_indexer] = value instead\n",
      "\n",
      "See the caveats in the documentation: https://pandas.pydata.org/pandas-docs/stable/user_guide/indexing.html#returning-a-view-versus-a-copy\n",
      "  df_dropna.loc[:, 'tweet_text'] = df_dropna['tweet_text'].apply(txt_con.text_lemmatisation)\n",
      "/tmp/ipykernel_345830/1513908503.py:32: SettingWithCopyWarning: \n",
      "A value is trying to be set on a copy of a slice from a DataFrame.\n",
      "Try using .loc[row_indexer,col_indexer] = value instead\n",
      "\n",
      "See the caveats in the documentation: https://pandas.pydata.org/pandas-docs/stable/user_guide/indexing.html#returning-a-view-versus-a-copy\n",
      "  df_dropna.loc[:, 'tweet_text'] = df_dropna['tweet_text'].apply(dim_red.remove_stopwords)\n",
      "/tmp/ipykernel_345830/1513908503.py:37: SettingWithCopyWarning: \n",
      "A value is trying to be set on a copy of a slice from a DataFrame.\n",
      "Try using .loc[row_indexer,col_indexer] = value instead\n",
      "\n",
      "See the caveats in the documentation: https://pandas.pydata.org/pandas-docs/stable/user_guide/indexing.html#returning-a-view-versus-a-copy\n",
      "  df_dropna.loc[:, 'tweet_text'] = df_dropna['tweet_text'].apply(dim_red.remove_single_use_words)\n",
      "/tmp/ipykernel_345830/1513908503.py:42: SettingWithCopyWarning: \n",
      "A value is trying to be set on a copy of a slice from a DataFrame.\n",
      "Try using .loc[row_indexer,col_indexer] = value instead\n",
      "\n",
      "See the caveats in the documentation: https://pandas.pydata.org/pandas-docs/stable/user_guide/indexing.html#returning-a-view-versus-a-copy\n",
      "  df_dropna.loc[:, 'tweet_text'] = df_dropna['tweet_text'].apply(dim_red.remove_punctuation)\n",
      "/tmp/ipykernel_345830/1513908503.py:47: SettingWithCopyWarning: \n",
      "A value is trying to be set on a copy of a slice from a DataFrame.\n",
      "Try using .loc[row_indexer,col_indexer] = value instead\n",
      "\n",
      "See the caveats in the documentation: https://pandas.pydata.org/pandas-docs/stable/user_guide/indexing.html#returning-a-view-versus-a-copy\n",
      "  df_dropna.loc[:, 'tweet_text_clean'] = df_dropna.tweet_text.apply(lambda x: ' '.join(w for w in x))\n"
     ]
    }
   ],
   "source": [
    "start = time.time()\n",
    "#df_dropna.loc[:, 'tweet_text'] = df_dropna['tweet_text'].apply(txt_con.convert_emoticons)\n",
    "#end_con_emots = time.time()\n",
    "#print('converting emoticons', end_con_emots - start)\n",
    "df_unk_removed = df[df['is_there_an_emotion_directed_at_a_brand_or_product'] != \"I can't tell\"]\n",
    "#df_unk_removed = df_unk_removed[df_unk_removed['is_there_an_emotion_directed_at_a_brand_or_product'] != \"No emotion toward brand or product\"]\n",
    "print(df.shape, df_unk_removed.shape)\n",
    "#df_missing_removed = df_unk_removed[~df_unk_removed.tweet_text.isnull()]\n",
    "df_missing_removed = df_unk_removed.dropna(subset=['tweet_text'])\n",
    "df_dropna = df_missing_removed\n",
    "dim_red.generate_single_use_word_list(df.tweet_text.astype('str'))\n",
    "\n",
    "df_dropna.loc[:, 'tweet_text'] = df_dropna['tweet_text'].apply(dim_red.remove_standardised_references)\n",
    "end_std_refs = time.time()\n",
    "print('Removing standard refs', end_std_refs - start)\n",
    "\n",
    "df_dropna.loc[:, 'tweet_text'] = df_dropna['tweet_text'].apply(txt_con.convert_sentence_to_lowercase)\n",
    "end_con_lwr = time.time()\n",
    "print('Converting to lowercase', end_con_lwr - end_std_refs)\n",
    "\n",
    "\n",
    "df_dropna.loc[:, 'tweet_text'] = df_dropna['tweet_text'].apply(txt_con.tokenise_text)\n",
    "end_tokenize = time.time()\n",
    "print('Tokenising texts', end_tokenize - end_con_lwr)\n",
    "\n",
    "\n",
    "df_dropna.loc[:, 'tweet_text'] = df_dropna['tweet_text'].apply(txt_con.text_lemmatisation)\n",
    "end_lmtze = time.time()\n",
    "print('Text Lemmatisation', end_lmtze - end_tokenize)\n",
    "\n",
    "\n",
    "df_dropna.loc[:, 'tweet_text'] = df_dropna['tweet_text'].apply(dim_red.remove_stopwords)\n",
    "end_stpwords = time.time()\n",
    "print('Removing stopwords', end_stpwords - end_lmtze)\n",
    "\n",
    "\n",
    "df_dropna.loc[:, 'tweet_text'] = df_dropna['tweet_text'].apply(dim_red.remove_single_use_words)\n",
    "end_sngl_words = time.time()\n",
    "print('Removing single use words', end_sngl_words - end_stpwords)\n",
    "\n",
    "\n",
    "df_dropna.loc[:, 'tweet_text'] = df_dropna['tweet_text'].apply(dim_red.remove_punctuation)\n",
    "end_rmv_punct = time.time()\n",
    "print('Removing punctuation', end_rmv_punct - end_sngl_words)\n",
    "\n",
    "print('Joining')\n",
    "df_dropna.loc[:, 'tweet_text_clean'] = df_dropna.tweet_text.apply(lambda x: ' '.join(w for w in x))"
   ]
  },
  {
   "cell_type": "code",
   "execution_count": null,
   "metadata": {},
   "outputs": [],
   "source": [
    "## missing data\n",
    "## duplicates\n",
    "## class balances\n",
    "\n",
    "## By sentiment visualisation\n",
    "## By product visualisation\n",
    "## By length of text\n",
    "## By length of text with polarity\n",
    "\n",
    "## Remember that tweets are 140 characters"
   ]
  },
  {
   "cell_type": "code",
   "execution_count": 15,
   "metadata": {},
   "outputs": [
    {
     "data": {
      "text/plain": [
       "Positive emotion    2978\n",
       "NaN                 2096\n",
       "Negative emotion     570\n",
       "Name: is_there_an_emotion_directed_at_a_brand_or_product, dtype: int64"
      ]
     },
     "execution_count": 15,
     "metadata": {},
     "output_type": "execute_result"
    }
   ],
   "source": [
    "df_missing_removed.is_there_an_emotion_directed_at_a_brand_or_product.value_counts(dropna = False)"
   ]
  },
  {
   "cell_type": "code",
   "execution_count": 16,
   "metadata": {},
   "outputs": [
    {
     "data": {
      "text/plain": [
       "index                                                 2096\n",
       "tweet_text                                            2096\n",
       "emotion_in_tweet_is_directed_at                       2453\n",
       "is_there_an_emotion_directed_at_a_brand_or_product    2096\n",
       "tweet_text_clean                                      2096\n",
       "dtype: int64"
      ]
     },
     "execution_count": 16,
     "metadata": {},
     "output_type": "execute_result"
    }
   ],
   "source": [
    "df_missing_removed.isnull().sum()\n"
   ]
  },
  {
   "cell_type": "code",
   "execution_count": null,
   "metadata": {},
   "outputs": [],
   "source": []
  },
  {
   "cell_type": "code",
   "execution_count": 17,
   "metadata": {},
   "outputs": [
    {
     "data": {
      "text/plain": [
       "index                                                 2096\n",
       "tweet_text                                            2096\n",
       "emotion_in_tweet_is_directed_at                       2453\n",
       "is_there_an_emotion_directed_at_a_brand_or_product    2096\n",
       "tweet_text_clean                                      2096\n",
       "dtype: int64"
      ]
     },
     "execution_count": 17,
     "metadata": {},
     "output_type": "execute_result"
    }
   ],
   "source": [
    "df_missing_removed.isnull().sum()\n"
   ]
  },
  {
   "cell_type": "code",
   "execution_count": 18,
   "metadata": {},
   "outputs": [],
   "source": []
  },
  {
   "cell_type": "code",
   "execution_count": 19,
   "metadata": {},
   "outputs": [
    {
     "data": {
      "text/plain": [
       "iPad                               918\n",
       "Apple                              638\n",
       "iPad or iPhone App                 460\n",
       "Google                             414\n",
       "UNK                                357\n",
       "iPhone                             287\n",
       "Other Google product or service    283\n",
       "Android App                         80\n",
       "Android                             77\n",
       "Other Apple product or service      34\n",
       "Name: emotion_in_tweet_is_directed_at, dtype: int64"
      ]
     },
     "execution_count": 19,
     "metadata": {},
     "output_type": "execute_result"
    }
   ],
   "source": [
    "df_input['emotion_in_tweet_is_directed_at'].value_counts(dropna=False)"
   ]
  },
  {
   "cell_type": "code",
   "execution_count": 89,
   "metadata": {},
   "outputs": [],
   "source": [
    "#DATA_FILE_PATH = '../'\n",
    "#TOKENIZED_DATA_FILE_NAME = 'tokenized_twitter_data.csv'\n",
    "pd.set_option('display.max_colwidth', None)\n",
    "RANDOM_STATE = 42\n",
    "MODEL_FILE_PATH = 'models/'\n",
    "MODEL_FILE_NAME = 'emb_model_01_best_model.h5'\n",
    "RUN_MODEL = True"
   ]
  },
  {
   "cell_type": "code",
   "execution_count": 90,
   "metadata": {},
   "outputs": [
    {
     "name": "stderr",
     "output_type": "stream",
     "text": [
      "/tmp/ipykernel_345830/2540411397.py:1: SettingWithCopyWarning: \n",
      "A value is trying to be set on a copy of a slice from a DataFrame.\n",
      "Try using .loc[row_indexer,col_indexer] = value instead\n",
      "\n",
      "See the caveats in the documentation: https://pandas.pydata.org/pandas-docs/stable/user_guide/indexing.html#returning-a-view-versus-a-copy\n",
      "  df_dropna.loc[:,'emotion_in_tweet_is_directed_at'] = df_missing_removed['emotion_in_tweet_is_directed_at'].apply(lambda x: 'UNK' if x != x else x)\n"
     ]
    }
   ],
   "source": [
    "df_dropna.loc[:,'emotion_in_tweet_is_directed_at'] = df_missing_removed['emotion_in_tweet_is_directed_at'].apply(lambda x: 'UNK' if x != x else x)\n",
    "df_input = df_dropna.dropna(subset=['tweet_text_clean', 'is_there_an_emotion_directed_at_a_brand_or_product', 'emotion_in_tweet_is_directed_at'])"
   ]
  },
  {
   "cell_type": "code",
   "execution_count": 91,
   "metadata": {},
   "outputs": [
    {
     "name": "stdout",
     "output_type": "stream",
     "text": [
      "7148 30\n",
      "1788 30\n",
      "6433 30\n",
      "6433 3\n",
      "715 30\n"
     ]
    }
   ],
   "source": [
    "\n",
    "X_train, X_test, y_train, y_test = train_test_split(df_input['tweet_text_clean'], \n",
    "                                                    df_input['is_there_an_emotion_directed_at_a_brand_or_product'],\n",
    "                                                   test_size = 0.2,\n",
    "                                                   random_state = RANDOM_STATE)\n",
    "                                                   #stratify = df_input['is_there_an_emotion_directed_at_a_brand_or_product'])\n",
    "\n",
    "\n",
    "# Set Max number of tokens per tweet\n",
    "MAX_TOKENS = 30\n",
    "# Set Max number of words/tokens in the corpus\n",
    "NUM_WORDS = 5000\n",
    "\n",
    "\n",
    "tokenizer = Tokenizer(num_words=NUM_WORDS, filters='', lower=False, split=' ')\n",
    "\n",
    "tokenizer.fit_on_texts(X_train)\n",
    "\n",
    "X_train_seq = tokenizer.texts_to_sequences(X_train)\n",
    "X_test_seq = tokenizer.texts_to_sequences(X_test)\n",
    "\n",
    "X_train_seq_pad = pad_sequences(X_train_seq, padding='post', maxlen=MAX_TOKENS)\n",
    "X_test_seq_pad = pad_sequences(X_test_seq, padding='post', maxlen=MAX_TOKENS)\n",
    "print(len(X_train_seq_pad), len(X_train_seq_pad[0]))\n",
    "print(len(X_test_seq_pad), len(X_test_seq_pad[0]))\n",
    "\n",
    "## Encoding\n",
    "le = LabelEncoder()\n",
    "y_train_enc = le.fit_transform(y_train)\n",
    "\n",
    "y_test_enc = le.transform(y_test)\n",
    "\n",
    "y_train_oh = to_categorical(y_train_enc)\n",
    "y_test_oh = to_categorical(y_test_enc)\n",
    "\n",
    "## Validation set\n",
    "X_train_emb, X_val_emb, y_train_emb, y_val_emb = train_test_split(X_train_seq_pad, \n",
    "                                                                y_train_oh, \n",
    "                                                                test_size=0.1, \n",
    "                                                                random_state=RANDOM_STATE)\n",
    "print(len(X_train_emb), len(X_train_emb[0]))\n",
    "print(len(y_train_emb), len(y_train_emb[0]))\n",
    "print(len(X_val_emb), len(X_val_emb[0]))\n",
    "\n",
    "\n",
    "## Setup Model\n",
    "emb_model = models.Sequential()\n",
    "emb_model.add(layers.Embedding(input_dim=NUM_WORDS, output_dim=64, input_length=MAX_TOKENS))\n",
    "emb_model.add(layers.Flatten())\n",
    "emb_model.add(layers.Dense(3, activation='softmax'))\n",
    "early_stopping = EarlyStopping(monitor='val_loss', mode='min', verbose=1, patience=5)\n",
    "\n",
    "\n",
    "save_best = ModelCheckpoint(os.path.join(MODEL_FILE_PATH,MODEL_FILE_NAME), \n",
    "                    monitor='val_categorical_accuracy', \n",
    "                    mode='max', \n",
    "                    verbose=1, \n",
    "                    save_best_only=True)\n",
    "\n",
    "\n"
   ]
  },
  {
   "cell_type": "code",
   "execution_count": 92,
   "metadata": {},
   "outputs": [
    {
     "name": "stdout",
     "output_type": "stream",
     "text": [
      "Epoch 1/20\n",
      "195/202 [===========================>..] - ETA: 0s - loss: 0.8444 - categorical_accuracy: 0.6064\n",
      "Epoch 1: val_categorical_accuracy improved from -inf to 0.61958, saving model to models/emb_model_01_best_model.h5\n",
      "202/202 [==============================] - 1s 4ms/step - loss: 0.8430 - categorical_accuracy: 0.6053 - val_loss: 0.8381 - val_categorical_accuracy: 0.6196\n",
      "Epoch 2/20\n",
      "187/202 [==========================>...] - ETA: 0s - loss: 0.7270 - categorical_accuracy: 0.6880\n",
      "Epoch 2: val_categorical_accuracy improved from 0.61958 to 0.63636, saving model to models/emb_model_01_best_model.h5\n",
      "202/202 [==============================] - 1s 3ms/step - loss: 0.7237 - categorical_accuracy: 0.6899 - val_loss: 0.7795 - val_categorical_accuracy: 0.6364\n",
      "Epoch 3/20\n",
      "198/202 [============================>.] - ETA: 0s - loss: 0.5862 - categorical_accuracy: 0.7710\n",
      "Epoch 3: val_categorical_accuracy improved from 0.63636 to 0.64336, saving model to models/emb_model_01_best_model.h5\n",
      "202/202 [==============================] - 1s 4ms/step - loss: 0.5846 - categorical_accuracy: 0.7723 - val_loss: 0.7608 - val_categorical_accuracy: 0.6434\n",
      "Epoch 4/20\n",
      "199/202 [============================>.] - ETA: 0s - loss: 0.4493 - categorical_accuracy: 0.8375\n",
      "Epoch 4: val_categorical_accuracy did not improve from 0.64336\n",
      "202/202 [==============================] - 1s 3ms/step - loss: 0.4498 - categorical_accuracy: 0.8371 - val_loss: 0.7966 - val_categorical_accuracy: 0.6378\n",
      "Epoch 5/20\n",
      "191/202 [===========================>..] - ETA: 0s - loss: 0.3385 - categorical_accuracy: 0.8917\n",
      "Epoch 5: val_categorical_accuracy improved from 0.64336 to 0.67552, saving model to models/emb_model_01_best_model.h5\n",
      "202/202 [==============================] - 1s 3ms/step - loss: 0.3387 - categorical_accuracy: 0.8907 - val_loss: 0.7938 - val_categorical_accuracy: 0.6755\n",
      "Epoch 6/20\n",
      "191/202 [===========================>..] - ETA: 0s - loss: 0.2593 - categorical_accuracy: 0.9233\n",
      "Epoch 6: val_categorical_accuracy did not improve from 0.67552\n",
      "202/202 [==============================] - 1s 3ms/step - loss: 0.2566 - categorical_accuracy: 0.9243 - val_loss: 0.8301 - val_categorical_accuracy: 0.6601\n",
      "Epoch 7/20\n",
      "190/202 [===========================>..] - ETA: 0s - loss: 0.2000 - categorical_accuracy: 0.9433\n",
      "Epoch 7: val_categorical_accuracy did not improve from 0.67552\n",
      "202/202 [==============================] - 1s 3ms/step - loss: 0.2000 - categorical_accuracy: 0.9433 - val_loss: 0.8529 - val_categorical_accuracy: 0.6615\n",
      "Epoch 8/20\n",
      "186/202 [==========================>...] - ETA: 0s - loss: 0.1580 - categorical_accuracy: 0.9570\n",
      "Epoch 8: val_categorical_accuracy did not improve from 0.67552\n",
      "202/202 [==============================] - 1s 3ms/step - loss: 0.1608 - categorical_accuracy: 0.9551 - val_loss: 0.8842 - val_categorical_accuracy: 0.6685\n",
      "Epoch 8: early stopping\n"
     ]
    }
   ],
   "source": [
    "emb_model.compile(loss='categorical_crossentropy', \n",
    "                optimizer='nadam', \n",
    "                metrics=[metrics.categorical_accuracy])\n",
    "\n",
    "\n",
    "if RUN_MODEL:\n",
    "    emb_model_results = emb_model.fit(X_train_emb, \n",
    "                                    y_train_emb, \n",
    "                                    validation_data=(X_val_emb, y_val_emb), \n",
    "                                    epochs=20,\n",
    "                                    callbacks=[early_stopping, save_best])"
   ]
  },
  {
   "cell_type": "code",
   "execution_count": 93,
   "metadata": {},
   "outputs": [],
   "source": [
    "def visualize_training_results(results):\n",
    "    history = results.history\n",
    "    plt.figure()\n",
    "    plt.plot(history['val_loss'])\n",
    "    plt.plot(history['loss'])\n",
    "    plt.legend(['val_loss', 'loss'])\n",
    "    plt.title('Loss')\n",
    "    plt.xlabel('Epochs')\n",
    "    plt.ylabel('Loss')\n",
    "    plt.show()\n",
    "    \n",
    "    plt.figure()\n",
    "    plt.plot(history['val_categorical_accuracy'])\n",
    "    plt.plot(history['categorical_accuracy'])\n",
    "    plt.legend(['val_categorical_accuracy', 'categorical_accuracy'])\n",
    "    plt.title('Accuracy')\n",
    "    plt.xlabel('Epochs')\n",
    "    plt.ylabel('Accuracy')\n",
    "    plt.show()"
   ]
  },
  {
   "cell_type": "code",
   "execution_count": 94,
   "metadata": {},
   "outputs": [
    {
     "data": {
      "image/png": "[encoded data removed]",
      "text/plain": [
       "<Figure size 432x288 with 1 Axes>"
      ]
     },
     "metadata": {
      "needs_background": "light"
     },
     "output_type": "display_data"
    },
    {
     "data": {
      "image/png": "[encoded data removed]",
      "text/plain": [
       "<Figure size 432x288 with 1 Axes>"
      ]
     },
     "metadata": {
      "needs_background": "light"
     },
     "output_type": "display_data"
    }
   ],
   "source": [
    "visualize_training_results(emb_model_results)"
   ]
  },
  {
   "cell_type": "code",
   "execution_count": 95,
   "metadata": {},
   "outputs": [],
   "source": [
    "saved_model = load_model(MODEL_FILE_PATH+MODEL_FILE_NAME)"
   ]
  },
  {
   "cell_type": "code",
   "execution_count": 99,
   "metadata": {},
   "outputs": [
    {
     "ename": "AttributeError",
     "evalue": "'Sequential' object has no attribute 'predict_classes'",
     "output_type": "error",
     "traceback": [
      "\u001b[0;31m---------------------------------------------------------------------------\u001b[0m",
      "\u001b[0;31mAttributeError\u001b[0m                            Traceback (most recent call last)",
      "Input \u001b[0;32mIn [99]\u001b[0m, in \u001b[0;36m<cell line: 1>\u001b[0;34m()\u001b[0m\n\u001b[0;32m----> 1\u001b[0m y_hat \u001b[38;5;241m=\u001b[39m \u001b[43msaved_model\u001b[49m\u001b[38;5;241;43m.\u001b[39;49m\u001b[43mpredict_classes\u001b[49m(X_test_seq_pad)\n\u001b[1;32m      3\u001b[0m results \u001b[38;5;241m=\u001b[39m saved_model\u001b[38;5;241m.\u001b[39mevaluate(X_test_seq_pad, y_test_oh)\n\u001b[1;32m      5\u001b[0m \u001b[38;5;28mprint\u001b[39m(classification_report(y_test_enc, np\u001b[38;5;241m.\u001b[39margmax(y_hat, axis\u001b[38;5;241m=\u001b[39m\u001b[38;5;241m1\u001b[39m), target_names\u001b[38;5;241m=\u001b[39mle\u001b[38;5;241m.\u001b[39mclasses_))\n",
      "\u001b[0;31mAttributeError\u001b[0m: 'Sequential' object has no attribute 'predict_classes'"
     ]
    }
   ],
   "source": [
    "y_hat = saved_model.predict_classes(X_test_seq_pad)\n",
    "\n",
    "results = saved_model.evaluate(X_test_seq_pad, y_test_oh)\n",
    "\n",
    "print(classification_report(y_test_enc, np.argmax(y_hat, axis=1), target_names=le.classes_))"
   ]
  },
  {
   "cell_type": "code",
   "execution_count": 97,
   "metadata": {},
   "outputs": [
    {
     "ename": "AttributeError",
     "evalue": "'Sequential' object has no attribute 'predict_classes'",
     "output_type": "error",
     "traceback": [
      "\u001b[0;31m---------------------------------------------------------------------------\u001b[0m",
      "\u001b[0;31mAttributeError\u001b[0m                            Traceback (most recent call last)",
      "Input \u001b[0;32mIn [97]\u001b[0m, in \u001b[0;36m<cell line: 7>\u001b[0;34m()\u001b[0m\n\u001b[1;32m      3\u001b[0m X_test_seq \u001b[38;5;241m=\u001b[39m tokenizer\u001b[38;5;241m.\u001b[39mtexts_to_sequences(X_test)\n\u001b[1;32m      5\u001b[0m X_test_seq_pad \u001b[38;5;241m=\u001b[39m pad_sequences(X_test_seq, padding\u001b[38;5;241m=\u001b[39m\u001b[38;5;124m'\u001b[39m\u001b[38;5;124mpost\u001b[39m\u001b[38;5;124m'\u001b[39m, maxlen\u001b[38;5;241m=\u001b[39mMAX_TOKENS)\n\u001b[0;32m----> 7\u001b[0m y_hat \u001b[38;5;241m=\u001b[39m \u001b[43msaved_model\u001b[49m\u001b[38;5;241;43m.\u001b[39;49m\u001b[43mpredict_classes\u001b[49m(X_test_seq_pad)\n",
      "\u001b[0;31mAttributeError\u001b[0m: 'Sequential' object has no attribute 'predict_classes'"
     ]
    }
   ],
   "source": [
    "X_test = ['#sxsw oooh rt google launch major new social network call circle possibly today']\n",
    "\n",
    "X_test_seq = tokenizer.texts_to_sequences(X_test)\n",
    "\n",
    "X_test_seq_pad = pad_sequences(X_test_seq, padding='post', maxlen=MAX_TOKENS)\n",
    "\n",
    "y_hat = saved_model.predict(X_test_seq_pad)"
   ]
  },
  {
   "cell_type": "code",
   "execution_count": 70,
   "metadata": {},
   "outputs": [
    {
     "name": "stdout",
     "output_type": "stream",
     "text": [
      "[[0.04118243 0.71401304 0.24480456]]\n"
     ]
    }
   ],
   "source": [
    "print(y_hat)"
   ]
  },
  {
   "cell_type": "code",
   "execution_count": null,
   "metadata": {},
   "outputs": [],
   "source": []
  }
 ],
 "metadata": {
  "kernelspec": {
   "display_name": "tweet_sentiment_analyser",
   "language": "python",
   "name": "tweet_sentiment_analyser"
  },
  "language_info": {
   "codemirror_mode": {
    "name": "ipython",
    "version": 3
   },
   "file_extension": ".py",
   "mimetype": "text/x-python",
   "name": "python",
   "nbconvert_exporter": "python",
   "pygments_lexer": "ipython3",
   "version": "3.10.4"
  },
  "vscode": {
   "interpreter": {
    "hash": "e7370f93d1d0cde622a1f8e1c04877d8463912d04d973331ad4851f04de6915a"
   }
  }
 },
 "nbformat": 4,
 "nbformat_minor": 4
}
