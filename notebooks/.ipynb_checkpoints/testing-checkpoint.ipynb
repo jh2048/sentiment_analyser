{
 "cells": [
  {
   "cell_type": "code",
   "execution_count": 1,
   "metadata": {},
   "outputs": [
    {
     "name": "stderr",
     "output_type": "stream",
     "text": [
      "[nltk_data] Downloading package stopwords to /home/jade/nltk_data...\n",
      "[nltk_data]   Package stopwords is already up-to-date!\n",
      "[nltk_data] Downloading package averaged_perceptron_tagger to\n",
      "[nltk_data]     /home/jade/nltk_data...\n",
      "[nltk_data]   Package averaged_perceptron_tagger is already up-to-\n",
      "[nltk_data]       date!\n",
      "[nltk_data] Downloading package wordnet to /home/jade/nltk_data...\n",
      "[nltk_data]   Package wordnet is already up-to-date!\n",
      "[nltk_data] Downloading package omw-1.4 to /home/jade/nltk_data...\n",
      "[nltk_data]   Package omw-1.4 is already up-to-date!\n"
     ]
    }
   ],
   "source": [
    "import pandas as pd\n",
    "import sys\n",
    "\n",
    "sys.path.append('../')\n",
    "\n",
    "from preprocessing import TextConversion, DimensionalityReduction"
   ]
  },
  {
   "cell_type": "code",
   "execution_count": 2,
   "metadata": {},
   "outputs": [
    {
     "data": {
      "text/html": [
       "<div>\n",
       "<style scoped>\n",
       "    .dataframe tbody tr th:only-of-type {\n",
       "        vertical-align: middle;\n",
       "    }\n",
       "\n",
       "    .dataframe tbody tr th {\n",
       "        vertical-align: top;\n",
       "    }\n",
       "\n",
       "    .dataframe thead th {\n",
       "        text-align: right;\n",
       "    }\n",
       "</style>\n",
       "<table border=\"1\" class=\"dataframe\">\n",
       "  <thead>\n",
       "    <tr style=\"text-align: right;\">\n",
       "      <th></th>\n",
       "      <th>index</th>\n",
       "      <th>tweet_text</th>\n",
       "      <th>emotion_in_tweet_is_directed_at</th>\n",
       "      <th>is_there_an_emotion_directed_at_a_brand_or_product</th>\n",
       "    </tr>\n",
       "  </thead>\n",
       "  <tbody>\n",
       "    <tr>\n",
       "      <th>0</th>\n",
       "      <td>0</td>\n",
       "      <td>.@wesley83 I have a 3G iPhone. After 3 hrs twe...</td>\n",
       "      <td>iPhone</td>\n",
       "      <td>Negative emotion</td>\n",
       "    </tr>\n",
       "    <tr>\n",
       "      <th>1</th>\n",
       "      <td>1</td>\n",
       "      <td>@jessedee Know about @fludapp ? Awesome iPad/i...</td>\n",
       "      <td>iPad or iPhone App</td>\n",
       "      <td>Positive emotion</td>\n",
       "    </tr>\n",
       "    <tr>\n",
       "      <th>2</th>\n",
       "      <td>2</td>\n",
       "      <td>@swonderlin Can not wait for #iPad 2 also. The...</td>\n",
       "      <td>iPad</td>\n",
       "      <td>Positive emotion</td>\n",
       "    </tr>\n",
       "    <tr>\n",
       "      <th>3</th>\n",
       "      <td>3</td>\n",
       "      <td>@sxsw I hope this year's festival isn't as cra...</td>\n",
       "      <td>iPad or iPhone App</td>\n",
       "      <td>Negative emotion</td>\n",
       "    </tr>\n",
       "    <tr>\n",
       "      <th>4</th>\n",
       "      <td>4</td>\n",
       "      <td>@sxtxstate great stuff on Fri #SXSW: Marissa M...</td>\n",
       "      <td>Google</td>\n",
       "      <td>Positive emotion</td>\n",
       "    </tr>\n",
       "  </tbody>\n",
       "</table>\n",
       "</div>"
      ],
      "text/plain": [
       "   index                                         tweet_text  \\\n",
       "0      0  .@wesley83 I have a 3G iPhone. After 3 hrs twe...   \n",
       "1      1  @jessedee Know about @fludapp ? Awesome iPad/i...   \n",
       "2      2  @swonderlin Can not wait for #iPad 2 also. The...   \n",
       "3      3  @sxsw I hope this year's festival isn't as cra...   \n",
       "4      4  @sxtxstate great stuff on Fri #SXSW: Marissa M...   \n",
       "\n",
       "  emotion_in_tweet_is_directed_at  \\\n",
       "0                          iPhone   \n",
       "1              iPad or iPhone App   \n",
       "2                            iPad   \n",
       "3              iPad or iPhone App   \n",
       "4                          Google   \n",
       "\n",
       "  is_there_an_emotion_directed_at_a_brand_or_product  \n",
       "0                                   Negative emotion  \n",
       "1                                   Positive emotion  \n",
       "2                                   Positive emotion  \n",
       "3                                   Negative emotion  \n",
       "4                                   Positive emotion  "
      ]
     },
     "execution_count": 2,
     "metadata": {},
     "output_type": "execute_result"
    }
   ],
   "source": [
    "df = pd.read_csv('../product_sentiment.csv')\n",
    "df.head()"
   ]
  },
  {
   "cell_type": "markdown",
   "metadata": {},
   "source": [
    "4 fields available. The main text column (tweet_text) which will be the corpus for the model and the sentiment column (is_there_an_emotion_directed_at_a_brand_or_product) which will be used as the response variable. The product column (emotion_in_tweet_is_directed_at) gives us additional data which we can use to coax more information about the tweets."
   ]
  },
  {
   "cell_type": "code",
   "execution_count": 6,
   "metadata": {},
   "outputs": [
    {
     "data": {
      "text/plain": [
       "(9093, 4)"
      ]
     },
     "execution_count": 6,
     "metadata": {},
     "output_type": "execute_result"
    }
   ],
   "source": [
    "df.shape"
   ]
  },
  {
   "cell_type": "markdown",
   "metadata": {},
   "source": [
    "We have 9093 tweets to start with."
   ]
  },
  {
   "cell_type": "code",
   "execution_count": 7,
   "metadata": {},
   "outputs": [
    {
     "data": {
      "text/plain": [
       "index                                                    0\n",
       "tweet_text                                               1\n",
       "emotion_in_tweet_is_directed_at                       5802\n",
       "is_there_an_emotion_directed_at_a_brand_or_product       0\n",
       "dtype: int64"
      ]
     },
     "execution_count": 7,
     "metadata": {},
     "output_type": "execute_result"
    }
   ],
   "source": [
    "df.isnull().sum()"
   ]
  },
  {
   "cell_type": "markdown",
   "metadata": {},
   "source": [
    "Two columns contain missing data. The products column has a majority of missing data (64%) while the tweets have only one missing value. So let's remove the row where the tweet is missing since this can't be used in this analysis anyway."
   ]
  },
  {
   "cell_type": "code",
   "execution_count": 8,
   "metadata": {},
   "outputs": [
    {
     "data": {
      "text/plain": [
       "(9092, 4)"
      ]
     },
     "execution_count": 8,
     "metadata": {},
     "output_type": "execute_result"
    }
   ],
   "source": [
    "df_missing_removed = df[~df.tweet_text.isnull()]\n",
    "df_missing_removed.shape"
   ]
  },
  {
   "cell_type": "code",
   "execution_count": 9,
   "metadata": {},
   "outputs": [
    {
     "data": {
      "text/plain": [
       "NaN                                5802\n",
       "iPad                                946\n",
       "Apple                               661\n",
       "iPad or iPhone App                  470\n",
       "Google                              430\n",
       "iPhone                              297\n",
       "Other Google product or service     293\n",
       "Android App                          81\n",
       "Android                              78\n",
       "Other Apple product or service       35\n",
       "Name: emotion_in_tweet_is_directed_at, dtype: int64"
      ]
     },
     "execution_count": 9,
     "metadata": {},
     "output_type": "execute_result"
    }
   ],
   "source": [
    "df.emotion_in_tweet_is_directed_at.value_counts(dropna=False)"
   ]
  },
  {
   "cell_type": "markdown",
   "metadata": {},
   "source": []
  },
  {
   "cell_type": "code",
   "execution_count": 11,
   "metadata": {},
   "outputs": [
    {
     "data": {
      "text/plain": [
       "<AxesSubplot:>"
      ]
     },
     "execution_count": 11,
     "metadata": {},
     "output_type": "execute_result"
    },
    {
     "data": {
      "image/png": "[encoded data removed]",
      "text/plain": [
       "<Figure size 432x288 with 1 Axes>"
      ]
     },
     "metadata": {
      "needs_background": "light"
     },
     "output_type": "display_data"
    }
   ],
   "source": [
    "df.emotion_in_tweet_is_directed_at.value_counts().plot(kind='bar')"
   ]
  },
  {
   "cell_type": "code",
   "execution_count": 12,
   "metadata": {},
   "outputs": [
    {
     "data": {
      "text/plain": [
       "<AxesSubplot:>"
      ]
     },
     "execution_count": 12,
     "metadata": {},
     "output_type": "execute_result"
    },
    {
     "data": {
      "image/png": "[encoded data removed]",
      "text/plain": [
       "<Figure size 432x288 with 1 Axes>"
      ]
     },
     "metadata": {
      "needs_background": "light"
     },
     "output_type": "display_data"
    }
   ],
   "source": [
    "df.is_there_an_emotion_directed_at_a_brand_or_product.value_counts(dropna=False).plot(kind='bar')"
   ]
  },
  {
   "cell_type": "markdown",
   "metadata": {},
   "source": [
    "There are 4 values in the sentiment column. 1 of which means inconclusive. In this instance, we will remove it since it cannot be used to validate / classify the data in line with the request. The remaining three give us a multiclass problem; positive, negative and neutral. As with many real world scenarios, we have unbalanced classes with the negative emotions being the minority, the neutral being the majority. \n",
    "\n",
    "Balance the classes or weight the metrics? \n",
    "\n",
    "There are other techniques we can use to give more context/ information to the sentiment of the text such as identifying subjectivity/ objectivity and sarcasm detection, however given the size of the dataset, there would not be much benefit from using these techniques."
   ]
  },
  {
   "cell_type": "code",
   "execution_count": 4,
   "metadata": {},
   "outputs": [
    {
     "data": {
      "text/plain": [
       "0"
      ]
     },
     "execution_count": 4,
     "metadata": {},
     "output_type": "execute_result"
    }
   ],
   "source": [
    "df.duplicated().sum()"
   ]
  },
  {
   "cell_type": "markdown",
   "metadata": {},
   "source": [
    "> Index 6 missing\n",
    "\n",
    "> Drop missing values from tweet texts since this is themain source of information we're looking for\n",
    "\n",
    "> No missing sentiments\n",
    "\n",
    "> No duplicates"
   ]
  },
  {
   "cell_type": "code",
   "execution_count": 5,
   "metadata": {},
   "outputs": [
    {
     "name": "stdout",
     "output_type": "stream",
     "text": [
      "['Attn: All  #SXSW frineds, @mention Register for #GDGTLive  and see Cobra iRadar for Android. {link}', 'Anyone at  #sxsw want to sell their old iPad?', 'Anyone at  #SXSW who bought the new iPad want to sell their older iPad to me?', 'At #sxsw.  Oooh. RT @mention Google to Launch Major New Social Network Called Circles, Possibly Today {link}', 'The best!  RT @mention Ha! First in line for #ipad2 at #sxsw &quot;pop-up&quot; Apple store was an event planner #eventprofs #pcma #engage365', 'SPIN Play - a new concept in music discovery for your iPad from @mention &amp; spin.com {link} #iTunes #sxsw @mention', '@mention  - False Alarm: Google Circles Not Coming Now\\x89ÛÒand Probably Not Ever? - {link} #Google #Circles #Social #SXSW', 'VatorNews - Google And Apple Force Print Media to Evolve? {link} #sxsw', '@mention  - Great weather to greet you for #sxsw! Still need a sweater at night..Apple putting up &quot;flash store&quot; downtown to sell iPad2', 'HootSuite - HootSuite Mobile for #SXSW ~ Updates for iPhone, BlackBerry &amp; Android: Whether you\\x89Ûªre getting friend... {link}', 'Hey #SXSW - How long do you think it takes us to make an iPhone case? answer @mention using #zazzlesxsw and we\\x89Ûªll make you one!', 'Mashable! - The iPad 2 Takes Over SXSW [VIDEO] #ipad #sxsw #gadgets {link}', 'For I-Pad ?RT @mention New #UberSocial for #iPhone now in the App Store includes UberGuide to #SXSW sponsored by ... {link}', \"#IPad2 's \\x89Û÷#SmartCover\\x89Ûª Opens to Instant Access - I should have waited to get one! - {link} #apple #SXSW\", 'Hand-Held \\x89Û÷Hobo\\x89Ûª: Drafthouse launches \\x89Û÷Hobo With a Shotgun\\x89Ûª iPhone app #SXSW {link}', 'HOORAY RT \\x89ÛÏ@mention Apple Is Opening A Pop-Up Store In Austin For #SXSW | @mention {link}', 'Orly....? \\x89ÛÏ@mention Google set to launch new social network #Circles today at #sxsw\\x89Û\\x9d', 'wooooo!!! \\x89ÛÏ@mention Apple store downtown Austin open til Midnight. #sxsw\\x89Û\\x9d']\n"
     ]
    }
   ],
   "source": [
    "print([x for x in df.tweet_text[32:50]])"
   ]
  },
  {
   "cell_type": "code",
   "execution_count": 16,
   "metadata": {},
   "outputs": [],
   "source": [
    "No emoticons in this text\n"
   ]
  },
  {
   "cell_type": "markdown",
   "metadata": {},
   "source": [
    "> Since we haven't got much data, the decision to lemmatise will leave us with a bigger pool of terms to weight on\n",
    "\n",
    "> Not all mentions removed\n",
    "\n",
    "\n"
   ]
  },
  {
   "cell_type": "code",
   "execution_count": 3,
   "metadata": {},
   "outputs": [],
   "source": [
    "dim_red = DimensionalityReduction()\n",
    "txt_con = TextConversion()"
   ]
  },
  {
   "cell_type": "code",
   "execution_count": 4,
   "metadata": {},
   "outputs": [],
   "source": [
    "df = df.dropna(subset=['tweet_text'])\n",
    "dim_red.generate_single_use_word_list(df.tweet_text)"
   ]
  },
  {
   "cell_type": "code",
   "execution_count": 6,
   "metadata": {},
   "outputs": [
    {
     "name": "stdout",
     "output_type": "stream",
     "text": [
      "Anyone at  #sxsw want to sell their old iPad?\n",
      "Anyone at  #sxsw want to sell their old iPad?\n",
      "anyone at  #sxsw want to sell their old ipad?\n",
      "['anyone', 'at', '#sxsw', 'want', 'to', 'sell', 'their', 'old', 'ipad', '?']\n",
      "at \n",
      "to \n",
      "their \n",
      "? \n",
      "lemma words: ['anyone', 'at', '#sxsw', 'want', 'to', 'sell', 'their', 'old', 'ipad', '?']\n",
      "word tokens: ['anyone', 'at', '#sxsw', 'want', 'to', 'sell', 'their', 'old', 'ipad', '?']\n",
      "['anyone', '#sxsw', 'want', 'sell', 'old', 'ipad', '?']\n",
      "['anyone', '#sxsw', 'want', 'sell', 'old', 'ipad', '?']\n",
      "['anyone', '#sxsw', 'want', 'sell', 'old', 'ipad'] \n",
      "\n",
      "Anyone at  #SXSW who bought the new iPad want to sell their older iPad to me?\n",
      "Anyone at  #SXSW who bought the new iPad want to sell their older iPad to me?\n",
      "anyone at  #sxsw who bought the new ipad want to sell their older ipad to me?\n",
      "['anyone', 'at', '#sxsw', 'who', 'bought', 'the', 'new', 'ipad', 'want', 'to', 'sell', 'their', 'older', 'ipad', 'to', 'me', '?']\n",
      "at \n",
      "who \n",
      "the \n",
      "to \n",
      "their \n",
      "to \n",
      "me \n",
      "? \n",
      "lemma words: ['anyone', 'at', '#sxsw', 'who', 'buy', 'the', 'new', 'ipad', 'want', 'to', 'sell', 'their', 'old', 'ipad', 'to', 'me', '?']\n",
      "word tokens: ['anyone', 'at', '#sxsw', 'who', 'buy', 'the', 'new', 'ipad', 'want', 'to', 'sell', 'their', 'old', 'ipad', 'to', 'me', '?']\n",
      "['anyone', '#sxsw', 'buy', 'new', 'ipad', 'want', 'sell', 'old', 'ipad', '?']\n",
      "['anyone', '#sxsw', 'buy', 'new', 'ipad', 'want', 'sell', 'old', 'ipad', '?']\n",
      "['anyone', '#sxsw', 'buy', 'new', 'ipad', 'want', 'sell', 'old', 'ipad'] \n",
      "\n",
      "At #sxsw.  Oooh. RT @mention Google to Launch Major New Social Network Called Circles, Possibly Today {link}\n",
      "At #sxsw.  Oooh. RT  Google to Launch Major New Social Network Called Circles, Possibly Today \n",
      "at #sxsw.  oooh. rt  google to launch major new social network called circles, possibly today \n",
      "['at', '#sxsw', '.', 'oooh', '.', 'rt', 'google', 'to', 'launch', 'major', 'new', 'social', 'network', 'called', 'circles', ',', 'possibly', 'today']\n",
      "at \n",
      ". \n",
      ". \n",
      "to \n",
      ", \n",
      "lemma words: ['at', '#sxsw', '.', 'oooh', '.', 'rt', 'google', 'to', 'launch', 'major', 'new', 'social', 'network', 'call', 'circle', ',', 'possibly', 'today']\n",
      "word tokens: ['at', '#sxsw', '.', 'oooh', '.', 'rt', 'google', 'to', 'launch', 'major', 'new', 'social', 'network', 'call', 'circle', ',', 'possibly', 'today']\n",
      "['#sxsw', '.', 'oooh', '.', 'rt', 'google', 'launch', 'major', 'new', 'social', 'network', 'call', 'circle', ',', 'possibly', 'today']\n",
      "['#sxsw', '.', 'oooh', '.', 'rt', 'google', 'launch', 'major', 'new', 'social', 'network', 'call', 'circle', ',', 'possibly', 'today']\n",
      "['#sxsw', 'oooh', 'rt', 'google', 'launch', 'major', 'new', 'social', 'network', 'call', 'circle', 'possibly', 'today'] \n",
      "\n",
      "The best!  RT @mention Ha! First in line for #ipad2 at #sxsw &quot;pop-up&quot; Apple store was an event planner #eventprofs #pcma #engage365\n",
      "The best!  RT  Ha! First in line for #ipad2 at #sxsw pop-up Apple store was an event planner #eventprofs #pcma #engage365\n",
      "the best!  rt  ha! first in line for #ipad2 at #sxsw pop-up apple store was an event planner #eventprofs #pcma #engage365\n",
      "['the', 'best', '!', 'rt', 'ha', '!', 'first', 'in', 'line', 'for', '#ipad2', 'at', '#sxsw', 'pop-up', 'apple', 'store', 'was', 'an', 'event', 'planner', '#eventprofs', '#pcma', '#engage365']\n",
      "the \n",
      "! \n",
      "! \n",
      "in \n",
      "for \n",
      "at \n",
      "an \n",
      "lemma words: ['the', 'best', '!', 'rt', 'ha', '!', 'first', 'in', 'line', 'for', '#ipad2', 'at', '#sxsw', 'pop-up', 'apple', 'store', 'be', 'an', 'event', 'planner', '#eventprofs', '#pcma', '#engage365']\n",
      "word tokens: ['the', 'best', '!', 'rt', 'ha', '!', 'first', 'in', 'line', 'for', '#ipad2', 'at', '#sxsw', 'pop-up', 'apple', 'store', 'be', 'an', 'event', 'planner', '#eventprofs', '#pcma', '#engage365']\n",
      "['best', '!', 'rt', 'ha', '!', 'first', 'line', '#ipad2', '#sxsw', 'pop-up', 'apple', 'store', 'event', 'planner', '#eventprofs', '#pcma', '#engage365']\n",
      "['best', '!', 'rt', 'ha', '!', 'first', 'line', '#ipad2', '#sxsw', 'pop-up', 'apple', 'store', 'event', 'planner', '#eventprofs', '#pcma', '#engage365']\n",
      "['best', 'rt', 'ha', 'first', 'line', '#ipad2', '#sxsw', 'pop-up', 'apple', 'store', 'event', 'planner', '#eventprofs', '#pcma', '#engage365'] \n",
      "\n",
      "SPIN Play - a new concept in music discovery for your iPad from @mention &amp; spin.com {link} #iTunes #sxsw @mention\n",
      "SPIN Play - a new concept in music discovery for your iPad from   spin.com  #iTunes #sxsw \n",
      "spin play - a new concept in music discovery for your ipad from   spin.com  #itunes #sxsw \n",
      "['spin', 'play', '-', 'a', 'new', 'concept', 'in', 'music', 'discovery', 'for', 'your', 'ipad', 'from', 'spin.com', '#itunes', '#sxsw']\n",
      "- \n",
      "a \n",
      "in \n",
      "for \n",
      "your \n",
      "from \n",
      "lemma words: ['spin', 'play', '-', 'a', 'new', 'concept', 'in', 'music', 'discovery', 'for', 'your', 'ipad', 'from', 'spin.com', '#itunes', '#sxsw']\n",
      "word tokens: ['spin', 'play', '-', 'a', 'new', 'concept', 'in', 'music', 'discovery', 'for', 'your', 'ipad', 'from', 'spin.com', '#itunes', '#sxsw']\n",
      "['spin', 'play', '-', 'new', 'concept', 'music', 'discovery', 'ipad', 'spin.com', '#itunes', '#sxsw']\n",
      "['spin', 'play', '-', 'new', 'concept', 'music', 'discovery', 'ipad', 'spin.com', '#itunes', '#sxsw']\n",
      "['spin', 'play', 'new', 'concept', 'music', 'discovery', 'ipad', 'spin.com', '#itunes', '#sxsw'] \n",
      "\n",
      "@mention  - False Alarm: Google Circles Not Coming NowÛÒand Probably Not Ever? - {link} #Google #Circles #Social #SXSW\n",
      "  - False Alarm: Google Circles Not Coming NowÛÒand Probably Not Ever? -  #Google #Circles #Social #SXSW\n",
      "  - false alarm: google circles not coming nowûòand probably not ever? -  #google #circles #social #sxsw\n",
      "['-', 'false', 'alarm', ':', 'google', 'circles', 'not', 'coming', 'now', '\\x89', 'ûòand', 'probably', 'not', 'ever', '?', '-', '#google', '#circles', '#social', '#sxsw']\n",
      "- \n",
      ": \n",
      "? \n",
      "- \n",
      "lemma words: ['-', 'false', 'alarm', ':', 'google', 'circle', 'not', 'come', 'now', '\\x89', 'ûòand', 'probably', 'not', 'ever', '?', '-', '#google', '#circles', '#social', '#sxsw']\n",
      "word tokens: ['-', 'false', 'alarm', ':', 'google', 'circle', 'not', 'come', 'now', '\\x89', 'ûòand', 'probably', 'not', 'ever', '?', '-', '#google', '#circles', '#social', '#sxsw']\n",
      "['-', 'false', 'alarm', ':', 'google', 'circle', 'come', '\\x89', 'ûòand', 'probably', 'ever', '?', '-', '#google', '#circles', '#social', '#sxsw']\n",
      "['-', 'false', 'alarm', ':', 'google', 'circle', 'come', '\\x89', 'ûòand', 'probably', 'ever', '?', '-', '#google', '#circles', '#social', '#sxsw']\n",
      "['false', 'alarm', 'google', 'circle', 'come', '\\x89', 'ûòand', 'probably', 'ever', '#google', '#circles', '#social', '#sxsw'] \n",
      "\n",
      "VatorNews - Google And Apple Force Print Media to Evolve? {link} #sxsw\n",
      "VatorNews - Google And Apple Force Print Media to Evolve?  #sxsw\n",
      "vatornews - google and apple force print media to evolve?  #sxsw\n",
      "['vatornews', '-', 'google', 'and', 'apple', 'force', 'print', 'media', 'to', 'evolve', '?', '#sxsw']\n",
      "- \n",
      "and \n",
      "to \n",
      "? \n",
      "lemma words: ['vatornews', '-', 'google', 'and', 'apple', 'force', 'print', 'medium', 'to', 'evolve', '?', '#sxsw']\n",
      "word tokens: ['vatornews', '-', 'google', 'and', 'apple', 'force', 'print', 'medium', 'to', 'evolve', '?', '#sxsw']\n",
      "['vatornews', '-', 'google', 'apple', 'force', 'print', 'medium', 'evolve', '?', '#sxsw']\n",
      "['vatornews', '-', 'google', 'apple', 'force', 'print', 'medium', 'evolve', '?', '#sxsw']\n",
      "['vatornews', 'google', 'apple', 'force', 'print', 'medium', 'evolve', '#sxsw'] \n",
      "\n",
      "@mention  - Great weather to greet you for #sxsw! Still need a sweater at night..Apple putting up &quot;flash store&quot; downtown to sell iPad2\n",
      "  - Great weather to greet you for #sxsw! Still need a sweater at night..Apple putting up flash store downtown to sell iPad2\n",
      "  - great weather to greet you for #sxsw! still need a sweater at night..apple putting up flash store downtown to sell ipad2\n",
      "['-', 'great', 'weather', 'to', 'greet', 'you', 'for', '#sxsw', '!', 'still', 'need', 'a', 'sweater', 'at', 'night', '..', 'apple', 'putting', 'up', 'flash', 'store', 'downtown', 'to', 'sell', 'ipad', '2']\n",
      "- \n",
      "to \n",
      "you \n",
      "for \n",
      "! \n",
      "a \n",
      "at \n",
      ".. \n",
      "to \n",
      "2 \n",
      "lemma words: ['-', 'great', 'weather', 'to', 'greet', 'you', 'for', '#sxsw', '!', 'still', 'need', 'a', 'sweater', 'at', 'night', '..', 'apple', 'put', 'up', 'flash', 'store', 'downtown', 'to', 'sell', 'ipad', '2']\n",
      "word tokens: ['-', 'great', 'weather', 'to', 'greet', 'you', 'for', '#sxsw', '!', 'still', 'need', 'a', 'sweater', 'at', 'night', '..', 'apple', 'put', 'up', 'flash', 'store', 'downtown', 'to', 'sell', 'ipad', '2']\n",
      "['-', 'great', 'weather', 'greet', '#sxsw', '!', 'still', 'need', 'sweater', 'night', '..', 'apple', 'put', 'flash', 'store', 'downtown', 'sell', 'ipad', '2']\n",
      "['-', 'great', 'weather', 'greet', '#sxsw', '!', 'still', 'need', 'sweater', 'night', '..', 'apple', 'put', 'flash', 'store', 'downtown', 'sell', 'ipad', '2']\n",
      "['great', 'weather', 'greet', '#sxsw', 'still', 'need', 'sweater', 'night', '..', 'apple', 'put', 'flash', 'store', 'downtown', 'sell', 'ipad', '2'] \n",
      "\n",
      "HootSuite - HootSuite Mobile for #SXSW ~ Updates for iPhone, BlackBerry &amp; Android: Whether youÛªre getting friend... {link}\n",
      "HootSuite - HootSuite Mobile for #SXSW ~ Updates for iPhone, BlackBerry  Android: Whether youÛªre getting friend... \n",
      "hootsuite - hootsuite mobile for #sxsw ~ updates for iphone, blackberry  android: whether youûªre getting friend... \n",
      "['hootsuite', '-', 'hootsuite', 'mobile', 'for', '#sxsw', '~', 'updates', 'for', 'iphone', ',', 'blackberry', 'android', ':', 'whether', 'you', '\\x89', 'ûªre', 'getting', 'friend', '...']\n",
      "hootsuite \n",
      "- \n",
      "for \n",
      "for \n",
      ", \n",
      ": \n",
      "whether \n",
      "you \n",
      "... \n",
      "lemma words: ['hootsuite', '-', 'hootsuite', 'mobile', 'for', '#sxsw', '~', 'update', 'for', 'iphone', ',', 'blackberry', 'android', ':', 'whether', 'you', '\\x89', 'ûªre', 'get', 'friend', '...']\n",
      "word tokens: ['hootsuite', '-', 'hootsuite', 'mobile', 'for', '#sxsw', '~', 'update', 'for', 'iphone', ',', 'blackberry', 'android', ':', 'whether', 'you', '\\x89', 'ûªre', 'get', 'friend', '...']\n",
      "['hootsuite', '-', 'hootsuite', 'mobile', '#sxsw', '~', 'update', 'iphone', ',', 'blackberry', 'android', ':', 'whether', '\\x89', 'ûªre', 'get', 'friend', '...']\n",
      "['hootsuite', '-', 'hootsuite', 'mobile', '#sxsw', '~', 'update', 'iphone', ',', 'blackberry', 'android', ':', 'whether', '\\x89', 'ûªre', 'get', 'friend', '...']\n",
      "['hootsuite', 'hootsuite', 'mobile', '#sxsw', 'update', 'iphone', 'blackberry', 'android', 'whether', '\\x89', 'ûªre', 'get', 'friend', '...'] \n",
      "\n",
      "Hey #SXSW - How long do you think it takes us to make an iPhone case? answer @mention using #zazzlesxsw and weÛªll make you one!\n",
      "Hey #SXSW - How long do you think it takes us to make an iPhone case? answer  using #zazzlesxsw and weÛªll make you one!\n",
      "hey #sxsw - how long do you think it takes us to make an iphone case? answer  using #zazzlesxsw and weûªll make you one!\n",
      "['hey', '#sxsw', '-', 'how', 'long', 'do', 'you', 'think', 'it', 'takes', 'us', 'to', 'make', 'an', 'iphone', 'case', '?', 'answer', 'using', '#zazzlesxsw', 'and', 'we', '\\x89', 'ûªll', 'make', 'you', 'one', '!']\n",
      "#sxsw \n",
      "- \n",
      "how \n",
      "you \n",
      "it \n",
      "us \n",
      "to \n",
      "an \n",
      "? \n",
      "and \n",
      "we \n",
      "you \n",
      "one \n",
      "! \n",
      "lemma words: ['hey', '#sxsw', '-', 'how', 'long', 'do', 'you', 'think', 'it', 'take', 'us', 'to', 'make', 'an', 'iphone', 'case', '?', 'answer', 'use', '#zazzlesxsw', 'and', 'we', '\\x89', 'ûªll', 'make', 'you', 'one', '!']\n",
      "word tokens: ['hey', '#sxsw', '-', 'how', 'long', 'do', 'you', 'think', 'it', 'take', 'us', 'to', 'make', 'an', 'iphone', 'case', '?', 'answer', 'use', '#zazzlesxsw', 'and', 'we', '\\x89', 'ûªll', 'make', 'you', 'one', '!']\n",
      "['hey', '#sxsw', '-', 'long', 'think', 'take', 'us', 'make', 'iphone', 'case', '?', 'answer', 'use', '#zazzlesxsw', '\\x89', 'ûªll', 'make', 'one', '!']\n",
      "['hey', '#sxsw', '-', 'long', 'think', 'take', 'us', 'make', 'iphone', 'case', '?', 'answer', 'use', '#zazzlesxsw', '\\x89', 'ûªll', 'make', 'one', '!']\n",
      "['hey', '#sxsw', 'long', 'think', 'take', 'us', 'make', 'iphone', 'case', 'answer', 'use', '#zazzlesxsw', '\\x89', 'ûªll', 'make', 'one'] \n",
      "\n",
      "Mashable! - The iPad 2 Takes Over SXSW [VIDEO] #ipad #sxsw #gadgets {link}\n",
      "Mashable! - The iPad 2 Takes Over SXSW [VIDEO] #ipad #sxsw #gadgets \n",
      "mashable! - the ipad 2 takes over sxsw [video] #ipad #sxsw #gadgets \n",
      "['mashable', '!', '-', 'the', 'ipad', '2', 'takes', 'over', 'sxsw', '[', 'video', ']', '#ipad', '#sxsw', '#gadgets']\n",
      "! \n",
      "- \n",
      "the \n",
      "2 \n",
      "over \n",
      "lemma words: ['mashable', '!', '-', 'the', 'ipad', '2', 'take', 'over', 'sxsw', '[', 'video', ']', '#ipad', '#sxsw', '#gadgets']\n",
      "word tokens: ['mashable', '!', '-', 'the', 'ipad', '2', 'take', 'over', 'sxsw', '[', 'video', ']', '#ipad', '#sxsw', '#gadgets']\n",
      "['mashable', '!', '-', 'ipad', '2', 'take', 'sxsw', '[', 'video', ']', '#ipad', '#sxsw', '#gadgets']\n",
      "['mashable', '!', '-', 'ipad', '2', 'take', 'sxsw', '[', 'video', ']', '#ipad', '#sxsw', '#gadgets']\n",
      "['mashable', 'ipad', '2', 'take', 'sxsw', 'video', '#ipad', '#sxsw', '#gadgets'] \n",
      "\n",
      "For I-Pad ?RT @mention New #UberSocial for #iPhone now in the App Store includes UberGuide to #SXSW sponsored by ... {link}\n",
      "For I-Pad ?RT  New #UberSocial for #iPhone now in the App Store includes UberGuide to #SXSW sponsored by ... \n",
      "for i-pad ?rt  new #ubersocial for #iphone now in the app store includes uberguide to #sxsw sponsored by ... \n",
      "['for', 'i-pad', '?', 'rt', 'new', '#ubersocial', 'for', '#iphone', 'now', 'in', 'the', 'app', 'store', 'includes', 'uberguide', 'to', '#sxsw', 'sponsored', 'by', '...']\n",
      "for \n",
      "? \n",
      "for \n",
      "in \n",
      "the \n",
      "to \n",
      "by \n",
      "... \n",
      "lemma words: ['for', 'i-pad', '?', 'rt', 'new', '#ubersocial', 'for', '#iphone', 'now', 'in', 'the', 'app', 'store', 'include', 'uberguide', 'to', '#sxsw', 'sponsor', 'by', '...']\n",
      "word tokens: ['for', 'i-pad', '?', 'rt', 'new', '#ubersocial', 'for', '#iphone', 'now', 'in', 'the', 'app', 'store', 'include', 'uberguide', 'to', '#sxsw', 'sponsor', 'by', '...']\n",
      "['i-pad', '?', 'rt', 'new', '#ubersocial', '#iphone', 'app', 'store', 'include', 'uberguide', '#sxsw', 'sponsor', '...']\n",
      "['i-pad', '?', 'rt', 'new', '#ubersocial', '#iphone', 'app', 'store', 'include', 'uberguide', '#sxsw', 'sponsor', '...']\n",
      "['i-pad', 'rt', 'new', '#ubersocial', '#iphone', 'app', 'store', 'include', 'uberguide', '#sxsw', 'sponsor', '...'] \n",
      "\n",
      "#IPad2 's Û÷#SmartCoverÛª Opens to Instant Access - I should have waited to get one! - {link} #apple #SXSW\n",
      "#IPad2 's Û÷#SmartCoverÛª Opens to Instant Access - I should have waited to get one! -  #apple #SXSW\n",
      "#ipad2 's û÷#smartcoverûª opens to instant access - i should have waited to get one! -  #apple #sxsw\n",
      "['#ipad2', \"'\", 's', '\\x89', 'û', '÷', '#smartcover', '\\x89', 'ûª', 'opens', 'to', 'instant', 'access', '-', 'i', 'should', 'have', 'waited', 'to', 'get', 'one', '!', '-', '#apple', '#sxsw']\n",
      "' \n",
      "to \n",
      "- \n",
      "should \n",
      "to \n",
      "one \n",
      "! \n",
      "- \n",
      "lemma words: ['#ipad2', \"'\", 's', '\\x89', 'û', '÷', '#smartcover', '\\x89', 'ûª', 'open', 'to', 'instant', 'access', '-', 'i', 'should', 'have', 'wait', 'to', 'get', 'one', '!', '-', '#apple', '#sxsw']\n",
      "word tokens: ['#ipad2', \"'\", 's', '\\x89', 'û', '÷', '#smartcover', '\\x89', 'ûª', 'open', 'to', 'instant', 'access', '-', 'i', 'should', 'have', 'wait', 'to', 'get', 'one', '!', '-', '#apple', '#sxsw']\n",
      "['#ipad2', \"'\", '\\x89', 'û', '÷', '#smartcover', '\\x89', 'ûª', 'open', 'instant', 'access', '-', 'wait', 'get', 'one', '!', '-', '#apple', '#sxsw']\n",
      "['#ipad2', \"'\", '\\x89', 'û', '÷', '#smartcover', '\\x89', 'ûª', 'open', 'instant', 'access', '-', 'wait', 'get', 'one', '!', '-', '#apple', '#sxsw']\n",
      "['#ipad2', '\\x89', 'û', '÷', '#smartcover', '\\x89', 'ûª', 'open', 'instant', 'access', 'wait', 'get', 'one', '#apple', '#sxsw'] \n",
      "\n",
      "Hand-Held Û÷HoboÛª: Drafthouse launches Û÷Hobo With a ShotgunÛª iPhone app #SXSW {link}\n",
      "Hand-Held Û÷HoboÛª: Drafthouse launches Û÷Hobo With a ShotgunÛª iPhone app #SXSW \n",
      "hand-held û÷hoboûª: drafthouse launches û÷hobo with a shotgunûª iphone app #sxsw \n",
      "['hand-held', '\\x89', 'û', '÷', 'hobo', '\\x89', 'ûª', ':', 'drafthouse', 'launches', '\\x89', 'û', '÷', 'hobo', 'with', 'a', 'shotgun', '\\x89', 'ûª', 'iphone', 'app', '#sxsw']\n",
      ": \n",
      "with \n",
      "a \n",
      "lemma words: ['hand-held', '\\x89', 'û', '÷', 'hobo', '\\x89', 'ûª', ':', 'drafthouse', 'launch', '\\x89', 'û', '÷', 'hobo', 'with', 'a', 'shotgun', '\\x89', 'ûª', 'iphone', 'app', '#sxsw']\n",
      "word tokens: ['hand-held', '\\x89', 'û', '÷', 'hobo', '\\x89', 'ûª', ':', 'drafthouse', 'launch', '\\x89', 'û', '÷', 'hobo', 'with', 'a', 'shotgun', '\\x89', 'ûª', 'iphone', 'app', '#sxsw']\n",
      "['hand-held', '\\x89', 'û', '÷', 'hobo', '\\x89', 'ûª', ':', 'drafthouse', 'launch', '\\x89', 'û', '÷', 'hobo', 'shotgun', '\\x89', 'ûª', 'iphone', 'app', '#sxsw']\n",
      "['hand-held', '\\x89', 'û', '÷', 'hobo', '\\x89', 'ûª', ':', 'drafthouse', 'launch', '\\x89', 'û', '÷', 'hobo', 'shotgun', '\\x89', 'ûª', 'iphone', 'app', '#sxsw']\n",
      "['hand-held', '\\x89', 'û', '÷', 'hobo', '\\x89', 'ûª', 'drafthouse', 'launch', '\\x89', 'û', '÷', 'hobo', 'shotgun', '\\x89', 'ûª', 'iphone', 'app', '#sxsw'] \n",
      "\n",
      "HOORAY RT ÛÏ@mention Apple Is Opening A Pop-Up Store In Austin For #SXSW | @mention {link}\n",
      "HOORAY RT ÛÏ Apple Is Opening A Pop-Up Store In Austin For #SXSW |  \n",
      "hooray rt ûï apple is opening a pop-up store in austin for #sxsw |  \n",
      "['hooray', 'rt', '\\x89', 'ûï', 'apple', 'is', 'opening', 'a', 'pop-up', 'store', 'in', 'austin', 'for', '#sxsw', '|']\n",
      "a \n",
      "in \n",
      "for \n",
      "lemma words: ['hooray', 'rt', '\\x89', 'ûï', 'apple', 'be', 'open', 'a', 'pop-up', 'store', 'in', 'austin', 'for', '#sxsw', '|']\n",
      "word tokens: ['hooray', 'rt', '\\x89', 'ûï', 'apple', 'be', 'open', 'a', 'pop-up', 'store', 'in', 'austin', 'for', '#sxsw', '|']\n",
      "['hooray', 'rt', '\\x89', 'ûï', 'apple', 'open', 'pop-up', 'store', 'austin', '#sxsw', '|']\n",
      "['hooray', 'rt', '\\x89', 'ûï', 'apple', 'open', 'pop-up', 'store', 'austin', '#sxsw', '|']\n",
      "['hooray', 'rt', '\\x89', 'ûï', 'apple', 'open', 'pop-up', 'store', 'austin', '#sxsw'] \n",
      "\n",
      "Orly....? ÛÏ@mention Google set to launch new social network #Circles today at #sxswÛ\n",
      "Orly....? ÛÏ Google set to launch new social network #Circles today at #sxswÛ\n",
      "orly....? ûï google set to launch new social network #circles today at #sxswû\n",
      "['orly', '...', '?', '\\x89', 'ûï', 'google', 'set', 'to', 'launch', 'new', 'social', 'network', '#circles', 'today', 'at', '#sxsw', '\\x89', 'û', '\\x9d']\n",
      "... \n",
      "? \n",
      "to \n",
      "at \n",
      "lemma words: ['orly', '...', '?', '\\x89', 'ûï', 'google', 'set', 'to', 'launch', 'new', 'social', 'network', '#circles', 'today', 'at', '#sxsw', '\\x89', 'û', '\\x9d']\n",
      "word tokens: ['orly', '...', '?', '\\x89', 'ûï', 'google', 'set', 'to', 'launch', 'new', 'social', 'network', '#circles', 'today', 'at', '#sxsw', '\\x89', 'û', '\\x9d']\n",
      "['orly', '...', '?', '\\x89', 'ûï', 'google', 'set', 'launch', 'new', 'social', 'network', '#circles', 'today', '#sxsw', '\\x89', 'û', '\\x9d']\n",
      "['orly', '...', '?', '\\x89', 'ûï', 'google', 'set', 'launch', 'new', 'social', 'network', '#circles', 'today', '#sxsw', '\\x89', 'û', '\\x9d']\n",
      "['orly', '...', '\\x89', 'ûï', 'google', 'set', 'launch', 'new', 'social', 'network', '#circles', 'today', '#sxsw', '\\x89', 'û', '\\x9d'] \n",
      "\n",
      "wooooo!!! ÛÏ@mention Apple store downtown Austin open til Midnight. #sxswÛ\n",
      "wooooo!!! ÛÏ Apple store downtown Austin open til Midnight. #sxswÛ\n",
      "wooooo!!! ûï apple store downtown austin open til midnight. #sxswû\n",
      "['wooooo', '!', '!', '!', '\\x89', 'ûï', 'apple', 'store', 'downtown', 'austin', 'open', 'til', 'midnight', '.', '#sxsw', '\\x89', 'û', '\\x9d']\n",
      "! \n",
      "! \n",
      "! \n",
      ". \n",
      "#sxsw \n",
      "lemma words: ['wooooo', '!', '!', '!', '\\x89', 'ûï', 'apple', 'store', 'downtown', 'austin', 'open', 'til', 'midnight', '.', '#sxsw', '\\x89', 'û', '\\x9d']\n",
      "word tokens: ['wooooo', '!', '!', '!', '\\x89', 'ûï', 'apple', 'store', 'downtown', 'austin', 'open', 'til', 'midnight', '.', '#sxsw', '\\x89', 'û', '\\x9d']\n",
      "['wooooo', '!', '!', '!', '\\x89', 'ûï', 'apple', 'store', 'downtown', 'austin', 'open', 'til', 'midnight', '.', '#sxsw', '\\x89', 'û', '\\x9d']\n",
      "['wooooo', '!', '!', '!', '\\x89', 'ûï', 'apple', 'store', 'downtown', 'austin', 'open', 'til', 'midnight', '.', '#sxsw', '\\x89', 'û', '\\x9d']\n",
      "['wooooo', '\\x89', 'ûï', 'apple', 'store', 'downtown', 'austin', 'open', 'til', 'midnight', '#sxsw', '\\x89', 'û', '\\x9d'] \n",
      "\n",
      "Khoi Vinh (@mention says Conde Nast's headlong rush into iPad publishing was a &quot;fundamental misunderstanding&quot; of the platform #sxsw\n",
      "Khoi Vinh ( says Conde Nast's headlong rush into iPad publishing was a fundamental misunderstanding of the platform #sxsw\n",
      "khoi vinh ( says conde nast's headlong rush into ipad publishing was a fundamental misunderstanding of the platform #sxsw\n",
      "['khoi', 'vinh', '(', 'says', 'conde', \"nast's\", 'headlong', 'rush', 'into', 'ipad', 'publishing', 'was', 'a', 'fundamental', 'misunderstanding', 'of', 'the', 'platform', '#sxsw']\n",
      "( \n",
      "into \n",
      "a \n",
      "of \n",
      "the \n",
      "lemma words: ['khoi', 'vinh', '(', 'say', 'conde', \"nast's\", 'headlong', 'rush', 'into', 'ipad', 'publishing', 'be', 'a', 'fundamental', 'misunderstanding', 'of', 'the', 'platform', '#sxsw']\n",
      "word tokens: ['khoi', 'vinh', '(', 'say', 'conde', \"nast's\", 'headlong', 'rush', 'into', 'ipad', 'publishing', 'be', 'a', 'fundamental', 'misunderstanding', 'of', 'the', 'platform', '#sxsw']\n",
      "['khoi', 'vinh', '(', 'say', 'conde', \"nast's\", 'headlong', 'rush', 'ipad', 'publishing', 'fundamental', 'misunderstanding', 'platform', '#sxsw']\n",
      "['khoi', 'vinh', '(', 'say', 'conde', \"nast's\", 'headlong', 'rush', 'ipad', 'publishing', 'fundamental', 'misunderstanding', 'platform', '#sxsw']\n",
      "['khoi', 'vinh', 'say', 'conde', \"nast's\", 'headlong', 'rush', 'ipad', 'publishing', 'fundamental', 'misunderstanding', 'platform', '#sxsw'] \n",
      "\n"
     ]
    }
   ],
   "source": [
    "for sentence in df.tweet_text[32:50]:\n",
    "    print(sentence)\n",
    "    sentence_w_emoticons = txt_con.convert_emoticons(sentence)\n",
    "    sentence_w_std_refs_rm = dim_red.remove_standardised_references(sentence_w_emoticons)\n",
    "    print(sentence_w_std_refs_rm)\n",
    "\n",
    "    sentence_lwr = txt_con.convert_sentence_to_lowercase(sentence_w_std_refs_rm)\n",
    "    print(sentence_lwr)\n",
    "    word_tokens = txt_con.tokenise_text(sentence_lwr)\n",
    "    print(word_tokens)\n",
    "    work_tokens_lmtzd = txt_con.text_lemmatisation(word_tokens)\n",
    "    print('lemma words:', work_tokens_lmtzd)\n",
    "    word_tokens_rm_punct = dim_red.remove_stopwords(work_tokens_lmtzd)\n",
    "    word_tokens_rm_sngl_use_wrds = dim_red.remove_single_use_words(word_tokens_rm_punct)\n",
    "    print(word_tokens_rm_sngl_use_wrds)\n",
    "    word_tokens_rm_punct = dim_red.remove_punctuation(word_tokens_rm_sngl_use_wrds)\n",
    "    print(word_tokens_rm_punct, '\\n')"
   ]
  },
  {
   "cell_type": "code",
   "execution_count": null,
   "metadata": {},
   "outputs": [],
   "source": [
    "## missing data\n",
    "## duplicates\n",
    "## class balances\n",
    "\n",
    "## By sentiment visualisation\n",
    "## By product visualisation\n",
    "## By length of text\n",
    "## By length of text with polarity\n",
    "\n",
    "## Remember that tweets are 140 characters"
   ]
  },
  {
   "cell_type": "markdown",
   "metadata": {},
   "source": []
  }
 ],
 "metadata": {
  "kernelspec": {
   "display_name": "tweet_sentiment_analyser",
   "language": "python",
   "name": "tweet_sentiment_analyser"
  },
  "language_info": {
   "codemirror_mode": {
    "name": "ipython",
    "version": 3
   },
   "file_extension": ".py",
   "mimetype": "text/x-python",
   "name": "python",
   "nbconvert_exporter": "python",
   "pygments_lexer": "ipython3",
   "version": "3.10.4"
  },
  "vscode": {
   "interpreter": {
    "hash": "e7370f93d1d0cde622a1f8e1c04877d8463912d04d973331ad4851f04de6915a"
   }
  }
 },
 "nbformat": 4,
 "nbformat_minor": 4
}
