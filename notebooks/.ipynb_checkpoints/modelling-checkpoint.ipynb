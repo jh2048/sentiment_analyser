{
 "cells": [
  {
   "cell_type": "code",
   "execution_count": null,
   "metadata": {},
   "outputs": [],
   "source": []
  },
  {
   "cell_type": "code",
   "execution_count": null,
   "metadata": {},
   "outputs": [],
   "source": [
    "import pandas as pd\n",
    "import sys\n",
    "sys.path.append('.')\n",
    "\n",
    "from main"
   ]
  },
  {
   "cell_type": "code",
   "execution_count": null,
   "metadata": {},
   "outputs": [],
   "source": [
    "DATA_FILEPATH = 'data/product_sentiment.csv'\n",
    "model_type = 'multiclass'"
   ]
  },
  {
   "cell_type": "code",
   "execution_count": null,
   "metadata": {},
   "outputs": [],
   "source": [
    "df = pd.read_csv(DATA_FILEPATH)\n",
    "\n",
    "## Remove unknown sentiments\n",
    "df_unk_removed = df[df['is_there_an_emotion_directed_at_a_brand_or_product'] != \"I can't tell\"]\n",
    "\n",
    "## Polarity analysis?\n",
    "if model_type == 'binary':\n",
    "    df_unk_removed = df_unk_removed[df_unk_removed['is_there_an_emotion_directed_at_a_brand_or_product'] != \"No emotion toward brand or product\"]\n",
    "\n",
    "## Convert NANs to UNK\n",
    "df_dropna_tweets.loc[:,'emotion_in_tweet_is_directed_at'] = df_unk_removed['emotion_in_tweet_is_directed_at'].apply(lambda x: 'UNK' if x != x else x)\n",
    "\n",
    "## Drop NANs\n",
    "df_input = df_dropna_tweets.dropna(subset=['tweet_text', 'is_there_an_emotion_directed_at_a_brand_or_product', 'emotion_in_tweet_is_directed_at'])\n",
    "\n",
    "## Build, train and validate model\n",
    "train_validate_model(df_input, model_type=model_type)\n",
    "\n",
    "\n",
    "## PREDICTION\n",
    "sentences = [\n",
    "    '#mobilephotography #iphone Shot and edited with IPhone_ XS max 📸✨📲',\n",
    "    'Crazy how fast something can grow in 11 years! 🍎 #iphone #iOS16',\n",
    "    'Well, here is an interesting glitch. 😂 Look at my time, WiFi, battery and cellular indicators. 🤣. That ain’t right.#Apple #iPhone #iOS',\n",
    "    'Completely agree. My #iphone XR (3 years old) now takes 2 to 3 times longer to open basic apps such as the camera for no apparent reason.',\n",
    "    'This is real sh*t, it’s been 8 hrs since i got this notification.(phone is waterproof though) And I can\\'t charge my phone. And battery is draining like fountain even though i\\'m not using it. Really frustated!!!' \n",
    "]\n",
    "\n",
    "result = predict(sentences, model_type=model_type)\n",
    "print(result)"
   ]
  }
 ],
 "metadata": {
  "kernelspec": {
   "display_name": "Python 3",
   "language": "python",
   "name": "python3"
  },
  "language_info": {
   "codemirror_mode": {
    "name": "ipython",
    "version": 3
   },
   "file_extension": ".py",
   "mimetype": "text/x-python",
   "name": "python",
   "nbconvert_exporter": "python",
   "pygments_lexer": "ipython3",
   "version": "3.8.10"
  }
 },
 "nbformat": 4,
 "nbformat_minor": 4
}
